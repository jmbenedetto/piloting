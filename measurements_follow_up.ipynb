{
  "nbformat": 4,
  "nbformat_minor": 0,
  "metadata": {
    "colab": {
      "name": "measurements_follow_up.ipynb",
      "provenance": [],
      "authorship_tag": "ABX9TyN7IpovBWMqmk8vI7Bn07RH",
      "include_colab_link": true
    },
    "kernelspec": {
      "name": "python3",
      "display_name": "Python 3"
    },
    "language_info": {
      "name": "python"
    },
    "widgets": {
      "application/vnd.jupyter.widget-state+json": {
        "b843269151be41cebb407a9c596b323c": {
          "model_module": "@jupyter-widgets/controls",
          "model_name": "HBoxModel",
          "model_module_version": "1.5.0",
          "state": {
            "_view_name": "HBoxView",
            "_dom_classes": [],
            "_model_name": "HBoxModel",
            "_view_module": "@jupyter-widgets/controls",
            "_model_module_version": "1.5.0",
            "_view_count": null,
            "_view_module_version": "1.5.0",
            "box_style": "",
            "layout": "IPY_MODEL_da883270db4c4e6186ed73cc61a7b009",
            "_model_module": "@jupyter-widgets/controls",
            "children": [
              "IPY_MODEL_b3b4611cb5d0466f9d2088ce155a67dc",
              "IPY_MODEL_99a8ecc535c84b4cb2b86901d845c669",
              "IPY_MODEL_7b9d8b213b404ab7a777df1a8197f3bb"
            ]
          }
        },
        "da883270db4c4e6186ed73cc61a7b009": {
          "model_module": "@jupyter-widgets/base",
          "model_name": "LayoutModel",
          "model_module_version": "1.2.0",
          "state": {
            "_view_name": "LayoutView",
            "grid_template_rows": null,
            "right": null,
            "justify_content": null,
            "_view_module": "@jupyter-widgets/base",
            "overflow": null,
            "_model_module_version": "1.2.0",
            "_view_count": null,
            "flex_flow": "row wrap",
            "width": "100%",
            "min_width": null,
            "border": null,
            "align_items": null,
            "bottom": null,
            "_model_module": "@jupyter-widgets/base",
            "top": null,
            "grid_column": null,
            "overflow_y": null,
            "overflow_x": null,
            "grid_auto_flow": null,
            "grid_area": null,
            "grid_template_columns": null,
            "flex": null,
            "_model_name": "LayoutModel",
            "justify_items": null,
            "grid_row": null,
            "max_height": null,
            "align_content": null,
            "visibility": null,
            "align_self": null,
            "height": null,
            "min_height": null,
            "padding": null,
            "grid_auto_rows": null,
            "grid_gap": null,
            "max_width": null,
            "order": null,
            "_view_module_version": "1.2.0",
            "grid_template_areas": null,
            "object_position": null,
            "object_fit": null,
            "grid_auto_columns": null,
            "margin": null,
            "display": "inline-flex",
            "left": null
          }
        },
        "b3b4611cb5d0466f9d2088ce155a67dc": {
          "model_module": "@jupyter-widgets/controls",
          "model_name": "HTMLModel",
          "model_module_version": "1.5.0",
          "state": {
            "_view_name": "HTMLView",
            "style": "IPY_MODEL_85c70961d41a4f9ca4039764510e8b32",
            "_dom_classes": [],
            "description": "",
            "_model_name": "HTMLModel",
            "placeholder": "​",
            "_view_module": "@jupyter-widgets/controls",
            "_model_module_version": "1.5.0",
            "value": "Done! Use &#x27;show&#x27; commands to display/save.   ",
            "_view_count": null,
            "_view_module_version": "1.5.0",
            "description_tooltip": null,
            "_model_module": "@jupyter-widgets/controls",
            "layout": "IPY_MODEL_5598721646e74ecfb2a4e379d6c8f04c"
          }
        },
        "99a8ecc535c84b4cb2b86901d845c669": {
          "model_module": "@jupyter-widgets/controls",
          "model_name": "FloatProgressModel",
          "model_module_version": "1.5.0",
          "state": {
            "_view_name": "ProgressView",
            "style": "IPY_MODEL_c49fbef2cc67499293051e316f039de4",
            "_dom_classes": [],
            "description": "",
            "_model_name": "FloatProgressModel",
            "bar_style": "success",
            "max": 1,
            "_view_module": "@jupyter-widgets/controls",
            "_model_module_version": "1.5.0",
            "value": 1,
            "_view_count": null,
            "_view_module_version": "1.5.0",
            "orientation": "horizontal",
            "min": 0,
            "description_tooltip": null,
            "_model_module": "@jupyter-widgets/controls",
            "layout": "IPY_MODEL_0ff3ffb712ac4d5ba4783af39ccc21db"
          }
        },
        "7b9d8b213b404ab7a777df1a8197f3bb": {
          "model_module": "@jupyter-widgets/controls",
          "model_name": "HTMLModel",
          "model_module_version": "1.5.0",
          "state": {
            "_view_name": "HTMLView",
            "style": "IPY_MODEL_8670d5d01a4247cbb0712fce550e5c7a",
            "_dom_classes": [],
            "description": "",
            "_model_name": "HTMLModel",
            "placeholder": "​",
            "_view_module": "@jupyter-widgets/controls",
            "_model_module_version": "1.5.0",
            "value": " [100%]   00:00 -&gt; (00:00 left)",
            "_view_count": null,
            "_view_module_version": "1.5.0",
            "description_tooltip": null,
            "_model_module": "@jupyter-widgets/controls",
            "layout": "IPY_MODEL_69a5505037e3451299d7c64feb3143ce"
          }
        },
        "85c70961d41a4f9ca4039764510e8b32": {
          "model_module": "@jupyter-widgets/controls",
          "model_name": "DescriptionStyleModel",
          "model_module_version": "1.5.0",
          "state": {
            "_view_name": "StyleView",
            "_model_name": "DescriptionStyleModel",
            "description_width": "",
            "_view_module": "@jupyter-widgets/base",
            "_model_module_version": "1.5.0",
            "_view_count": null,
            "_view_module_version": "1.2.0",
            "_model_module": "@jupyter-widgets/controls"
          }
        },
        "5598721646e74ecfb2a4e379d6c8f04c": {
          "model_module": "@jupyter-widgets/base",
          "model_name": "LayoutModel",
          "model_module_version": "1.2.0",
          "state": {
            "_view_name": "LayoutView",
            "grid_template_rows": null,
            "right": null,
            "justify_content": null,
            "_view_module": "@jupyter-widgets/base",
            "overflow": null,
            "_model_module_version": "1.2.0",
            "_view_count": null,
            "flex_flow": null,
            "width": null,
            "min_width": null,
            "border": null,
            "align_items": null,
            "bottom": null,
            "_model_module": "@jupyter-widgets/base",
            "top": null,
            "grid_column": null,
            "overflow_y": null,
            "overflow_x": null,
            "grid_auto_flow": null,
            "grid_area": null,
            "grid_template_columns": null,
            "flex": null,
            "_model_name": "LayoutModel",
            "justify_items": null,
            "grid_row": null,
            "max_height": null,
            "align_content": null,
            "visibility": null,
            "align_self": null,
            "height": null,
            "min_height": null,
            "padding": null,
            "grid_auto_rows": null,
            "grid_gap": null,
            "max_width": null,
            "order": null,
            "_view_module_version": "1.2.0",
            "grid_template_areas": null,
            "object_position": null,
            "object_fit": null,
            "grid_auto_columns": null,
            "margin": null,
            "display": null,
            "left": null
          }
        },
        "c49fbef2cc67499293051e316f039de4": {
          "model_module": "@jupyter-widgets/controls",
          "model_name": "ProgressStyleModel",
          "model_module_version": "1.5.0",
          "state": {
            "_view_name": "StyleView",
            "_model_name": "ProgressStyleModel",
            "description_width": "",
            "_view_module": "@jupyter-widgets/base",
            "_model_module_version": "1.5.0",
            "_view_count": null,
            "_view_module_version": "1.2.0",
            "bar_color": null,
            "_model_module": "@jupyter-widgets/controls"
          }
        },
        "0ff3ffb712ac4d5ba4783af39ccc21db": {
          "model_module": "@jupyter-widgets/base",
          "model_name": "LayoutModel",
          "model_module_version": "1.2.0",
          "state": {
            "_view_name": "LayoutView",
            "grid_template_rows": null,
            "right": null,
            "justify_content": null,
            "_view_module": "@jupyter-widgets/base",
            "overflow": null,
            "_model_module_version": "1.2.0",
            "_view_count": null,
            "flex_flow": null,
            "width": null,
            "min_width": null,
            "border": null,
            "align_items": null,
            "bottom": null,
            "_model_module": "@jupyter-widgets/base",
            "top": null,
            "grid_column": null,
            "overflow_y": null,
            "overflow_x": null,
            "grid_auto_flow": null,
            "grid_area": null,
            "grid_template_columns": null,
            "flex": "2",
            "_model_name": "LayoutModel",
            "justify_items": null,
            "grid_row": null,
            "max_height": null,
            "align_content": null,
            "visibility": null,
            "align_self": null,
            "height": null,
            "min_height": null,
            "padding": null,
            "grid_auto_rows": null,
            "grid_gap": null,
            "max_width": null,
            "order": null,
            "_view_module_version": "1.2.0",
            "grid_template_areas": null,
            "object_position": null,
            "object_fit": null,
            "grid_auto_columns": null,
            "margin": null,
            "display": null,
            "left": null
          }
        },
        "8670d5d01a4247cbb0712fce550e5c7a": {
          "model_module": "@jupyter-widgets/controls",
          "model_name": "DescriptionStyleModel",
          "model_module_version": "1.5.0",
          "state": {
            "_view_name": "StyleView",
            "_model_name": "DescriptionStyleModel",
            "description_width": "",
            "_view_module": "@jupyter-widgets/base",
            "_model_module_version": "1.5.0",
            "_view_count": null,
            "_view_module_version": "1.2.0",
            "_model_module": "@jupyter-widgets/controls"
          }
        },
        "69a5505037e3451299d7c64feb3143ce": {
          "model_module": "@jupyter-widgets/base",
          "model_name": "LayoutModel",
          "model_module_version": "1.2.0",
          "state": {
            "_view_name": "LayoutView",
            "grid_template_rows": null,
            "right": null,
            "justify_content": null,
            "_view_module": "@jupyter-widgets/base",
            "overflow": null,
            "_model_module_version": "1.2.0",
            "_view_count": null,
            "flex_flow": null,
            "width": null,
            "min_width": null,
            "border": null,
            "align_items": null,
            "bottom": null,
            "_model_module": "@jupyter-widgets/base",
            "top": null,
            "grid_column": null,
            "overflow_y": null,
            "overflow_x": null,
            "grid_auto_flow": null,
            "grid_area": null,
            "grid_template_columns": null,
            "flex": null,
            "_model_name": "LayoutModel",
            "justify_items": null,
            "grid_row": null,
            "max_height": null,
            "align_content": null,
            "visibility": null,
            "align_self": null,
            "height": null,
            "min_height": null,
            "padding": null,
            "grid_auto_rows": null,
            "grid_gap": null,
            "max_width": null,
            "order": null,
            "_view_module_version": "1.2.0",
            "grid_template_areas": null,
            "object_position": null,
            "object_fit": null,
            "grid_auto_columns": null,
            "margin": null,
            "display": null,
            "left": null
          }
        }
      }
    }
  },
  "cells": [
    {
      "cell_type": "markdown",
      "metadata": {
        "id": "view-in-github",
        "colab_type": "text"
      },
      "source": [
        "<a href=\"https://colab.research.google.com/github/jmbenedetto/piloting/blob/main/measurements_follow_up.ipynb\" target=\"_parent\"><img src=\"https://colab.research.google.com/assets/colab-badge.svg\" alt=\"Open In Colab\"/></a>"
      ]
    },
    {
      "cell_type": "markdown",
      "source": [
        "# GOAL"
      ],
      "metadata": {
        "id": "nDYOcC5cqA2T"
      }
    },
    {
      "cell_type": "markdown",
      "source": [
        "# PACKAGES"
      ],
      "metadata": {
        "id": "oerdfMDtqElD"
      }
    },
    {
      "cell_type": "code",
      "execution_count": 176,
      "metadata": {
        "id": "uB9Agi17k0OE",
        "colab": {
          "base_uri": "https://localhost:8080/"
        },
        "outputId": "649cba35-f6f1-4cc7-f6bd-5ea2e64e0e2f"
      },
      "outputs": [
        {
          "output_type": "stream",
          "name": "stdout",
          "text": [
            "Requirement already satisfied: sweetviz in /usr/local/lib/python3.7/dist-packages (2.1.3)\n",
            "Requirement already satisfied: pandas!=1.0.0,!=1.0.1,!=1.0.2,>=0.25.3 in /usr/local/lib/python3.7/dist-packages (from sweetviz) (1.1.5)\n",
            "Requirement already satisfied: jinja2>=2.11.1 in /usr/local/lib/python3.7/dist-packages (from sweetviz) (2.11.3)\n",
            "Requirement already satisfied: matplotlib>=3.1.3 in /usr/local/lib/python3.7/dist-packages (from sweetviz) (3.2.2)\n",
            "Requirement already satisfied: importlib-resources>=1.2.0 in /usr/local/lib/python3.7/dist-packages (from sweetviz) (5.4.0)\n",
            "Requirement already satisfied: tqdm>=4.43.0 in /usr/local/lib/python3.7/dist-packages (from sweetviz) (4.62.3)\n",
            "Requirement already satisfied: numpy>=1.16.0 in /usr/local/lib/python3.7/dist-packages (from sweetviz) (1.19.5)\n",
            "Requirement already satisfied: scipy>=1.3.2 in /usr/local/lib/python3.7/dist-packages (from sweetviz) (1.4.1)\n",
            "Requirement already satisfied: zipp>=3.1.0 in /usr/local/lib/python3.7/dist-packages (from importlib-resources>=1.2.0->sweetviz) (3.7.0)\n",
            "Requirement already satisfied: MarkupSafe>=0.23 in /usr/local/lib/python3.7/dist-packages (from jinja2>=2.11.1->sweetviz) (2.0.1)\n",
            "Requirement already satisfied: kiwisolver>=1.0.1 in /usr/local/lib/python3.7/dist-packages (from matplotlib>=3.1.3->sweetviz) (1.3.2)\n",
            "Requirement already satisfied: cycler>=0.10 in /usr/local/lib/python3.7/dist-packages (from matplotlib>=3.1.3->sweetviz) (0.11.0)\n",
            "Requirement already satisfied: pyparsing!=2.0.4,!=2.1.2,!=2.1.6,>=2.0.1 in /usr/local/lib/python3.7/dist-packages (from matplotlib>=3.1.3->sweetviz) (3.0.6)\n",
            "Requirement already satisfied: python-dateutil>=2.1 in /usr/local/lib/python3.7/dist-packages (from matplotlib>=3.1.3->sweetviz) (2.8.2)\n",
            "Requirement already satisfied: pytz>=2017.2 in /usr/local/lib/python3.7/dist-packages (from pandas!=1.0.0,!=1.0.1,!=1.0.2,>=0.25.3->sweetviz) (2018.9)\n",
            "Requirement already satisfied: six>=1.5 in /usr/local/lib/python3.7/dist-packages (from python-dateutil>=2.1->matplotlib>=3.1.3->sweetviz) (1.15.0)\n"
          ]
        }
      ],
      "source": [
        "from google.colab import auth\n",
        "import gspread\n",
        "from oauth2client.client import GoogleCredentials\n",
        "import pandas as pd\n",
        "import altair as alt\n",
        "from datetime import date\n",
        "\n",
        "!pip install sweetviz\n",
        "import sweetviz as sv"
      ]
    },
    {
      "cell_type": "markdown",
      "source": [
        "# PARAMETERS"
      ],
      "metadata": {
        "id": "-vwPE0hSqHTs"
      }
    },
    {
      "cell_type": "code",
      "source": [
        "period='2022Q1'"
      ],
      "metadata": {
        "id": "H-ZvNjZip-dm"
      },
      "execution_count": 177,
      "outputs": []
    },
    {
      "cell_type": "markdown",
      "source": [
        "# SCRIPT"
      ],
      "metadata": {
        "id": "DP7FAViaqiIZ"
      }
    },
    {
      "cell_type": "markdown",
      "source": [
        "## Get measurements data"
      ],
      "metadata": {
        "id": "fBeechu1rSjB"
      }
    },
    {
      "cell_type": "code",
      "source": [
        "# connect to google account \n",
        "auth.authenticate_user()\n",
        "gc = gspread.authorize(GoogleCredentials.get_application_default())\n",
        "\n",
        "# get gsheet\n",
        "sh = gc.open(\"2022_OKRs and 4DX\")\n",
        "wsh_measurements = sh.worksheet(\"Measurements follow up\")\n",
        "\n",
        "# get data into dfs\n",
        "wsh_definitions = sh.worksheet(\"Measures definition\").get_all_values()\n",
        "df_definitions = pd.DataFrame.from_records(wsh_definitions[1:],columns=wsh_definitions[0])\n",
        "wsh_measurements = sh.worksheet(\"Measurements follow up\").get_all_values()\n",
        "df_measurements = pd.DataFrame.from_records(wsh_measurements[1:],columns=wsh_measurements[0])\n",
        "df_measurements['Week']=pd.to_datetime(df_measurements['Week'],dayfirst=True).astype('str')\n",
        "# transform Target and Value into Function and Measurement columns\n",
        "df_measurements=df_measurements.melt(\n",
        "    id_vars=['MeasureID','MeasurementID','Week'],\n",
        "    var_name='Function',\n",
        "    value_name='Measurement')\n",
        "df = pd.merge(df_definitions,df_measurements,how='left',on='MeasureID')\n",
        "df['Measure key']=\"(\" + df['Period'] + \") \" + df['Measure']\n",
        "df['Measurement']=df['Measurement'].replace(\",\",\".\",regex=True)\n",
        "df.head(5)"
      ],
      "metadata": {
        "colab": {
          "base_uri": "https://localhost:8080/",
          "height": 204
        },
        "id": "ridXca-NqrcU",
        "outputId": "cc9b6f3b-8645-4c99-f7ca-7a59052c0b20"
      },
      "execution_count": 178,
      "outputs": [
        {
          "output_type": "execute_result",
          "data": {
            "text/html": [
              "\n",
              "  <div id=\"df-65595a91-0cf4-4990-b737-a604c0138e1f\">\n",
              "    <div class=\"colab-df-container\">\n",
              "      <div>\n",
              "<style scoped>\n",
              "    .dataframe tbody tr th:only-of-type {\n",
              "        vertical-align: middle;\n",
              "    }\n",
              "\n",
              "    .dataframe tbody tr th {\n",
              "        vertical-align: top;\n",
              "    }\n",
              "\n",
              "    .dataframe thead th {\n",
              "        text-align: right;\n",
              "    }\n",
              "</style>\n",
              "<table border=\"1\" class=\"dataframe\">\n",
              "  <thead>\n",
              "    <tr style=\"text-align: right;\">\n",
              "      <th></th>\n",
              "      <th>MeasureID</th>\n",
              "      <th>Measure</th>\n",
              "      <th>Type</th>\n",
              "      <th>UoM</th>\n",
              "      <th>Period</th>\n",
              "      <th>MeasurementID</th>\n",
              "      <th>Week</th>\n",
              "      <th>Function</th>\n",
              "      <th>Measurement</th>\n",
              "      <th>Measure key</th>\n",
              "    </tr>\n",
              "  </thead>\n",
              "  <tbody>\n",
              "    <tr>\n",
              "      <th>0</th>\n",
              "      <td>05a85df9</td>\n",
              "      <td>Weight</td>\n",
              "      <td>Lag</td>\n",
              "      <td>Kg</td>\n",
              "      <td>2022Q1</td>\n",
              "      <td>b4cd08ad</td>\n",
              "      <td>2022-01-10</td>\n",
              "      <td>Target</td>\n",
              "      <td>96.5</td>\n",
              "      <td>(2022Q1) Weight</td>\n",
              "    </tr>\n",
              "    <tr>\n",
              "      <th>1</th>\n",
              "      <td>05a85df9</td>\n",
              "      <td>Weight</td>\n",
              "      <td>Lag</td>\n",
              "      <td>Kg</td>\n",
              "      <td>2022Q1</td>\n",
              "      <td>1</td>\n",
              "      <td>2022-01-17</td>\n",
              "      <td>Target</td>\n",
              "      <td>96</td>\n",
              "      <td>(2022Q1) Weight</td>\n",
              "    </tr>\n",
              "    <tr>\n",
              "      <th>2</th>\n",
              "      <td>05a85df9</td>\n",
              "      <td>Weight</td>\n",
              "      <td>Lag</td>\n",
              "      <td>Kg</td>\n",
              "      <td>2022Q1</td>\n",
              "      <td>2</td>\n",
              "      <td>2022-01-24</td>\n",
              "      <td>Target</td>\n",
              "      <td>95.5</td>\n",
              "      <td>(2022Q1) Weight</td>\n",
              "    </tr>\n",
              "    <tr>\n",
              "      <th>3</th>\n",
              "      <td>05a85df9</td>\n",
              "      <td>Weight</td>\n",
              "      <td>Lag</td>\n",
              "      <td>Kg</td>\n",
              "      <td>2022Q1</td>\n",
              "      <td>3</td>\n",
              "      <td>2022-01-31</td>\n",
              "      <td>Target</td>\n",
              "      <td>95</td>\n",
              "      <td>(2022Q1) Weight</td>\n",
              "    </tr>\n",
              "    <tr>\n",
              "      <th>4</th>\n",
              "      <td>05a85df9</td>\n",
              "      <td>Weight</td>\n",
              "      <td>Lag</td>\n",
              "      <td>Kg</td>\n",
              "      <td>2022Q1</td>\n",
              "      <td>4</td>\n",
              "      <td>2022-02-07</td>\n",
              "      <td>Target</td>\n",
              "      <td>94.5</td>\n",
              "      <td>(2022Q1) Weight</td>\n",
              "    </tr>\n",
              "  </tbody>\n",
              "</table>\n",
              "</div>\n",
              "      <button class=\"colab-df-convert\" onclick=\"convertToInteractive('df-65595a91-0cf4-4990-b737-a604c0138e1f')\"\n",
              "              title=\"Convert this dataframe to an interactive table.\"\n",
              "              style=\"display:none;\">\n",
              "        \n",
              "  <svg xmlns=\"http://www.w3.org/2000/svg\" height=\"24px\"viewBox=\"0 0 24 24\"\n",
              "       width=\"24px\">\n",
              "    <path d=\"M0 0h24v24H0V0z\" fill=\"none\"/>\n",
              "    <path d=\"M18.56 5.44l.94 2.06.94-2.06 2.06-.94-2.06-.94-.94-2.06-.94 2.06-2.06.94zm-11 1L8.5 8.5l.94-2.06 2.06-.94-2.06-.94L8.5 2.5l-.94 2.06-2.06.94zm10 10l.94 2.06.94-2.06 2.06-.94-2.06-.94-.94-2.06-.94 2.06-2.06.94z\"/><path d=\"M17.41 7.96l-1.37-1.37c-.4-.4-.92-.59-1.43-.59-.52 0-1.04.2-1.43.59L10.3 9.45l-7.72 7.72c-.78.78-.78 2.05 0 2.83L4 21.41c.39.39.9.59 1.41.59.51 0 1.02-.2 1.41-.59l7.78-7.78 2.81-2.81c.8-.78.8-2.07 0-2.86zM5.41 20L4 18.59l7.72-7.72 1.47 1.35L5.41 20z\"/>\n",
              "  </svg>\n",
              "      </button>\n",
              "      \n",
              "  <style>\n",
              "    .colab-df-container {\n",
              "      display:flex;\n",
              "      flex-wrap:wrap;\n",
              "      gap: 12px;\n",
              "    }\n",
              "\n",
              "    .colab-df-convert {\n",
              "      background-color: #E8F0FE;\n",
              "      border: none;\n",
              "      border-radius: 50%;\n",
              "      cursor: pointer;\n",
              "      display: none;\n",
              "      fill: #1967D2;\n",
              "      height: 32px;\n",
              "      padding: 0 0 0 0;\n",
              "      width: 32px;\n",
              "    }\n",
              "\n",
              "    .colab-df-convert:hover {\n",
              "      background-color: #E2EBFA;\n",
              "      box-shadow: 0px 1px 2px rgba(60, 64, 67, 0.3), 0px 1px 3px 1px rgba(60, 64, 67, 0.15);\n",
              "      fill: #174EA6;\n",
              "    }\n",
              "\n",
              "    [theme=dark] .colab-df-convert {\n",
              "      background-color: #3B4455;\n",
              "      fill: #D2E3FC;\n",
              "    }\n",
              "\n",
              "    [theme=dark] .colab-df-convert:hover {\n",
              "      background-color: #434B5C;\n",
              "      box-shadow: 0px 1px 3px 1px rgba(0, 0, 0, 0.15);\n",
              "      filter: drop-shadow(0px 1px 2px rgba(0, 0, 0, 0.3));\n",
              "      fill: #FFFFFF;\n",
              "    }\n",
              "  </style>\n",
              "\n",
              "      <script>\n",
              "        const buttonEl =\n",
              "          document.querySelector('#df-65595a91-0cf4-4990-b737-a604c0138e1f button.colab-df-convert');\n",
              "        buttonEl.style.display =\n",
              "          google.colab.kernel.accessAllowed ? 'block' : 'none';\n",
              "\n",
              "        async function convertToInteractive(key) {\n",
              "          const element = document.querySelector('#df-65595a91-0cf4-4990-b737-a604c0138e1f');\n",
              "          const dataTable =\n",
              "            await google.colab.kernel.invokeFunction('convertToInteractive',\n",
              "                                                     [key], {});\n",
              "          if (!dataTable) return;\n",
              "\n",
              "          const docLinkHtml = 'Like what you see? Visit the ' +\n",
              "            '<a target=\"_blank\" href=https://colab.research.google.com/notebooks/data_table.ipynb>data table notebook</a>'\n",
              "            + ' to learn more about interactive tables.';\n",
              "          element.innerHTML = '';\n",
              "          dataTable['output_type'] = 'display_data';\n",
              "          await google.colab.output.renderOutput(dataTable, element);\n",
              "          const docLink = document.createElement('div');\n",
              "          docLink.innerHTML = docLinkHtml;\n",
              "          element.appendChild(docLink);\n",
              "        }\n",
              "      </script>\n",
              "    </div>\n",
              "  </div>\n",
              "  "
            ],
            "text/plain": [
              "  MeasureID Measure Type UoM  ...        Week Function Measurement      Measure key\n",
              "0  05a85df9  Weight  Lag  Kg  ...  2022-01-10   Target        96.5  (2022Q1) Weight\n",
              "1  05a85df9  Weight  Lag  Kg  ...  2022-01-17   Target          96  (2022Q1) Weight\n",
              "2  05a85df9  Weight  Lag  Kg  ...  2022-01-24   Target        95.5  (2022Q1) Weight\n",
              "3  05a85df9  Weight  Lag  Kg  ...  2022-01-31   Target          95  (2022Q1) Weight\n",
              "4  05a85df9  Weight  Lag  Kg  ...  2022-02-07   Target        94.5  (2022Q1) Weight\n",
              "\n",
              "[5 rows x 10 columns]"
            ]
          },
          "metadata": {},
          "execution_count": 178
        }
      ]
    },
    {
      "cell_type": "code",
      "source": [
        "#analyzing the dataset\n",
        "advert_report = sv.analyze(df)\n",
        "#display the report\n",
        "advert_report.show_html('Advertising.html')"
      ],
      "metadata": {
        "colab": {
          "base_uri": "https://localhost:8080/",
          "height": 66,
          "referenced_widgets": [
            "b843269151be41cebb407a9c596b323c",
            "da883270db4c4e6186ed73cc61a7b009",
            "b3b4611cb5d0466f9d2088ce155a67dc",
            "99a8ecc535c84b4cb2b86901d845c669",
            "7b9d8b213b404ab7a777df1a8197f3bb",
            "85c70961d41a4f9ca4039764510e8b32",
            "5598721646e74ecfb2a4e379d6c8f04c",
            "c49fbef2cc67499293051e316f039de4",
            "0ff3ffb712ac4d5ba4783af39ccc21db",
            "8670d5d01a4247cbb0712fce550e5c7a",
            "69a5505037e3451299d7c64feb3143ce"
          ]
        },
        "id": "vwxnRINHe8K1",
        "outputId": "fb0ce7cd-37c0-4d59-e0fc-fc63baf088bc"
      },
      "execution_count": null,
      "outputs": [
        {
          "output_type": "display_data",
          "data": {
            "application/vnd.jupyter.widget-view+json": {
              "model_id": "b843269151be41cebb407a9c596b323c",
              "version_minor": 0,
              "version_major": 2
            },
            "text/plain": [
              "                                             |          | [  0%]   00:00 -> (? left)"
            ]
          },
          "metadata": {}
        },
        {
          "output_type": "stream",
          "name": "stdout",
          "text": [
            "Report Advertising.html was generated! NOTEBOOK/COLAB USERS: the web browser MAY not pop up, regardless, the report IS saved in your notebook/colab files.\n"
          ]
        }
      ]
    },
    {
      "cell_type": "markdown",
      "source": [
        "## Generate plots"
      ],
      "metadata": {
        "id": "DJbvj4QwuCBf"
      }
    },
    {
      "cell_type": "code",
      "source": [
        "graphs=None\n",
        "for measure in df['Measure'].unique():\n",
        "  source = df[(df['Period']==period)&(df['Measure']==measure)]\n",
        "  if graphs:\n",
        "    graphs = graphs & alt.Chart(source).mark_bar().encode(\n",
        "      x=alt.X('Function:N',title=None,axis=alt.Axis(labels=False)),\n",
        "      y=alt.Y('Measurement:Q',stack=None,title=measure),\n",
        "      column='Week:O',\n",
        "      color='Function:N'\n",
        "    ).properties(\n",
        "      width=40,\n",
        "      height=75)\n",
        "  else:\n",
        "    graphs = alt.Chart(source).mark_bar().encode(\n",
        "        x=alt.X('Function:N',title=None,axis=alt.Axis(labels=False)),\n",
        "        y=alt.Y('Measurement:Q',stack=None,title=measure),\n",
        "        column='Week:O',\n",
        "        color='Function:N'\n",
        "      ).properties(\n",
        "        width=40,\n",
        "        height=75)\n",
        "      \n",
        "graphs"
      ],
      "metadata": {
        "colab": {
          "base_uri": "https://localhost:8080/",
          "height": 817
        },
        "id": "7qTdOiLPw6YS",
        "outputId": "ac15e3a0-a36a-4344-b4f7-f9f51f71a434"
      },
      "execution_count": 217,
      "outputs": [
        {
          "output_type": "execute_result",
          "data": {
            "text/plain": [
              "alt.VConcatChart(...)"
            ],
            "text/html": [
              "\n",
              "<div id=\"altair-viz-559993fbd7b849c59e1b43d17ce46602\"></div>\n",
              "<script type=\"text/javascript\">\n",
              "  var VEGA_DEBUG = (typeof VEGA_DEBUG == \"undefined\") ? {} : VEGA_DEBUG;\n",
              "  (function(spec, embedOpt){\n",
              "    let outputDiv = document.currentScript.previousElementSibling;\n",
              "    if (outputDiv.id !== \"altair-viz-559993fbd7b849c59e1b43d17ce46602\") {\n",
              "      outputDiv = document.getElementById(\"altair-viz-559993fbd7b849c59e1b43d17ce46602\");\n",
              "    }\n",
              "    const paths = {\n",
              "      \"vega\": \"https://cdn.jsdelivr.net/npm//vega@5?noext\",\n",
              "      \"vega-lib\": \"https://cdn.jsdelivr.net/npm//vega-lib?noext\",\n",
              "      \"vega-lite\": \"https://cdn.jsdelivr.net/npm//vega-lite@4.17.0?noext\",\n",
              "      \"vega-embed\": \"https://cdn.jsdelivr.net/npm//vega-embed@6?noext\",\n",
              "    };\n",
              "\n",
              "    function maybeLoadScript(lib, version) {\n",
              "      var key = `${lib.replace(\"-\", \"\")}_version`;\n",
              "      return (VEGA_DEBUG[key] == version) ?\n",
              "        Promise.resolve(paths[lib]) :\n",
              "        new Promise(function(resolve, reject) {\n",
              "          var s = document.createElement('script');\n",
              "          document.getElementsByTagName(\"head\")[0].appendChild(s);\n",
              "          s.async = true;\n",
              "          s.onload = () => {\n",
              "            VEGA_DEBUG[key] = version;\n",
              "            return resolve(paths[lib]);\n",
              "          };\n",
              "          s.onerror = () => reject(`Error loading script: ${paths[lib]}`);\n",
              "          s.src = paths[lib];\n",
              "        });\n",
              "    }\n",
              "\n",
              "    function showError(err) {\n",
              "      outputDiv.innerHTML = `<div class=\"error\" style=\"color:red;\">${err}</div>`;\n",
              "      throw err;\n",
              "    }\n",
              "\n",
              "    function displayChart(vegaEmbed) {\n",
              "      vegaEmbed(outputDiv, spec, embedOpt)\n",
              "        .catch(err => showError(`Javascript Error: ${err.message}<br>This usually means there's a typo in your chart specification. See the javascript console for the full traceback.`));\n",
              "    }\n",
              "\n",
              "    if(typeof define === \"function\" && define.amd) {\n",
              "      requirejs.config({paths});\n",
              "      require([\"vega-embed\"], displayChart, err => showError(`Error loading script: ${err.message}`));\n",
              "    } else {\n",
              "      maybeLoadScript(\"vega\", \"5\")\n",
              "        .then(() => maybeLoadScript(\"vega-lite\", \"4.17.0\"))\n",
              "        .then(() => maybeLoadScript(\"vega-embed\", \"6\"))\n",
              "        .catch(showError)\n",
              "        .then(() => displayChart(vegaEmbed));\n",
              "    }\n",
              "  })({\"config\": {\"view\": {\"continuousWidth\": 400, \"continuousHeight\": 300}}, \"vconcat\": [{\"data\": {\"name\": \"data-168c8a3c54fc867e8f8dfdeb293a9f8c\"}, \"mark\": \"bar\", \"encoding\": {\"color\": {\"field\": \"Function\", \"type\": \"nominal\"}, \"column\": {\"field\": \"Week\", \"type\": \"ordinal\"}, \"x\": {\"axis\": {\"labels\": false}, \"field\": \"Function\", \"title\": null, \"type\": \"nominal\"}, \"y\": {\"field\": \"Measurement\", \"stack\": null, \"title\": \"Weight\", \"type\": \"quantitative\"}}, \"height\": 75, \"width\": 40}, {\"data\": {\"name\": \"data-07c4d7290c0fdf6121a9b7191dc288aa\"}, \"mark\": \"bar\", \"encoding\": {\"color\": {\"field\": \"Function\", \"type\": \"nominal\"}, \"column\": {\"field\": \"Week\", \"type\": \"ordinal\"}, \"x\": {\"axis\": {\"labels\": false}, \"field\": \"Function\", \"title\": null, \"type\": \"nominal\"}, \"y\": {\"field\": \"Measurement\", \"stack\": null, \"title\": \"Days above the WW allowance\", \"type\": \"quantitative\"}}, \"height\": 75, \"width\": 40}, {\"data\": {\"name\": \"data-1986179c0c217e1a106f6ae2ee627870\"}, \"mark\": \"bar\", \"encoding\": {\"color\": {\"field\": \"Function\", \"type\": \"nominal\"}, \"column\": {\"field\": \"Week\", \"type\": \"ordinal\"}, \"x\": {\"axis\": {\"labels\": false}, \"field\": \"Function\", \"title\": null, \"type\": \"nominal\"}, \"y\": {\"field\": \"Measurement\", \"stack\": null, \"title\": \"NA meetings\", \"type\": \"quantitative\"}}, \"height\": 75, \"width\": 40}, {\"data\": {\"name\": \"data-445584e4bd845288d153d54911f12889\"}, \"mark\": \"bar\", \"encoding\": {\"color\": {\"field\": \"Function\", \"type\": \"nominal\"}, \"column\": {\"field\": \"Week\", \"type\": \"ordinal\"}, \"x\": {\"axis\": {\"labels\": false}, \"field\": \"Function\", \"title\": null, \"type\": \"nominal\"}, \"y\": {\"field\": \"Measurement\", \"stack\": null, \"title\": \"Meditation hours\", \"type\": \"quantitative\"}}, \"height\": 75, \"width\": 40}, {\"data\": {\"name\": \"data-8e4f61c0ebd65f98b1a180114055c94f\"}, \"mark\": \"bar\", \"encoding\": {\"color\": {\"field\": \"Function\", \"type\": \"nominal\"}, \"column\": {\"field\": \"Week\", \"type\": \"ordinal\"}, \"x\": {\"axis\": {\"labels\": false}, \"field\": \"Function\", \"title\": null, \"type\": \"nominal\"}, \"y\": {\"field\": \"Measurement\", \"stack\": null, \"title\": \"Exercise hours\", \"type\": \"quantitative\"}}, \"height\": 75, \"width\": 40}], \"$schema\": \"https://vega.github.io/schema/vega-lite/v4.17.0.json\", \"datasets\": {\"data-168c8a3c54fc867e8f8dfdeb293a9f8c\": [{\"MeasureID\": \"05a85df9\", \"Measure\": \"Weight\", \"Type\": \"Lag\", \"UoM\": \"Kg\", \"Period\": \"2022Q1\", \"MeasurementID\": \"b4cd08ad\", \"Week\": \"2022-01-10\", \"Function\": \"Target\", \"Measurement\": \"96.5\", \"Measure key\": \"(2022Q1) Weight\"}, {\"MeasureID\": \"05a85df9\", \"Measure\": \"Weight\", \"Type\": \"Lag\", \"UoM\": \"Kg\", \"Period\": \"2022Q1\", \"MeasurementID\": \"1\", \"Week\": \"2022-01-17\", \"Function\": \"Target\", \"Measurement\": \"96\", \"Measure key\": \"(2022Q1) Weight\"}, {\"MeasureID\": \"05a85df9\", \"Measure\": \"Weight\", \"Type\": \"Lag\", \"UoM\": \"Kg\", \"Period\": \"2022Q1\", \"MeasurementID\": \"2\", \"Week\": \"2022-01-24\", \"Function\": \"Target\", \"Measurement\": \"95.5\", \"Measure key\": \"(2022Q1) Weight\"}, {\"MeasureID\": \"05a85df9\", \"Measure\": \"Weight\", \"Type\": \"Lag\", \"UoM\": \"Kg\", \"Period\": \"2022Q1\", \"MeasurementID\": \"3\", \"Week\": \"2022-01-31\", \"Function\": \"Target\", \"Measurement\": \"95\", \"Measure key\": \"(2022Q1) Weight\"}, {\"MeasureID\": \"05a85df9\", \"Measure\": \"Weight\", \"Type\": \"Lag\", \"UoM\": \"Kg\", \"Period\": \"2022Q1\", \"MeasurementID\": \"4\", \"Week\": \"2022-02-07\", \"Function\": \"Target\", \"Measurement\": \"94.5\", \"Measure key\": \"(2022Q1) Weight\"}, {\"MeasureID\": \"05a85df9\", \"Measure\": \"Weight\", \"Type\": \"Lag\", \"UoM\": \"Kg\", \"Period\": \"2022Q1\", \"MeasurementID\": \"5\", \"Week\": \"2022-02-14\", \"Function\": \"Target\", \"Measurement\": \"94\", \"Measure key\": \"(2022Q1) Weight\"}, {\"MeasureID\": \"05a85df9\", \"Measure\": \"Weight\", \"Type\": \"Lag\", \"UoM\": \"Kg\", \"Period\": \"2022Q1\", \"MeasurementID\": \"6\", \"Week\": \"2022-02-21\", \"Function\": \"Target\", \"Measurement\": \"93.5\", \"Measure key\": \"(2022Q1) Weight\"}, {\"MeasureID\": \"05a85df9\", \"Measure\": \"Weight\", \"Type\": \"Lag\", \"UoM\": \"Kg\", \"Period\": \"2022Q1\", \"MeasurementID\": \"7\", \"Week\": \"2022-02-28\", \"Function\": \"Target\", \"Measurement\": \"93\", \"Measure key\": \"(2022Q1) Weight\"}, {\"MeasureID\": \"05a85df9\", \"Measure\": \"Weight\", \"Type\": \"Lag\", \"UoM\": \"Kg\", \"Period\": \"2022Q1\", \"MeasurementID\": \"8\", \"Week\": \"2022-03-07\", \"Function\": \"Target\", \"Measurement\": \"92.5\", \"Measure key\": \"(2022Q1) Weight\"}, {\"MeasureID\": \"05a85df9\", \"Measure\": \"Weight\", \"Type\": \"Lag\", \"UoM\": \"Kg\", \"Period\": \"2022Q1\", \"MeasurementID\": \"9\", \"Week\": \"2022-03-14\", \"Function\": \"Target\", \"Measurement\": \"92\", \"Measure key\": \"(2022Q1) Weight\"}, {\"MeasureID\": \"05a85df9\", \"Measure\": \"Weight\", \"Type\": \"Lag\", \"UoM\": \"Kg\", \"Period\": \"2022Q1\", \"MeasurementID\": \"10\", \"Week\": \"2022-03-21\", \"Function\": \"Target\", \"Measurement\": \"91.5\", \"Measure key\": \"(2022Q1) Weight\"}, {\"MeasureID\": \"05a85df9\", \"Measure\": \"Weight\", \"Type\": \"Lag\", \"UoM\": \"Kg\", \"Period\": \"2022Q1\", \"MeasurementID\": \"11\", \"Week\": \"2022-03-28\", \"Function\": \"Target\", \"Measurement\": \"91\", \"Measure key\": \"(2022Q1) Weight\"}, {\"MeasureID\": \"05a85df9\", \"Measure\": \"Weight\", \"Type\": \"Lag\", \"UoM\": \"Kg\", \"Period\": \"2022Q1\", \"MeasurementID\": \"b4cd08ad\", \"Week\": \"2022-01-10\", \"Function\": \"Value\", \"Measurement\": \"99\", \"Measure key\": \"(2022Q1) Weight\"}, {\"MeasureID\": \"05a85df9\", \"Measure\": \"Weight\", \"Type\": \"Lag\", \"UoM\": \"Kg\", \"Period\": \"2022Q1\", \"MeasurementID\": \"1\", \"Week\": \"2022-01-17\", \"Function\": \"Value\", \"Measurement\": \"\", \"Measure key\": \"(2022Q1) Weight\"}, {\"MeasureID\": \"05a85df9\", \"Measure\": \"Weight\", \"Type\": \"Lag\", \"UoM\": \"Kg\", \"Period\": \"2022Q1\", \"MeasurementID\": \"2\", \"Week\": \"2022-01-24\", \"Function\": \"Value\", \"Measurement\": \"\", \"Measure key\": \"(2022Q1) Weight\"}, {\"MeasureID\": \"05a85df9\", \"Measure\": \"Weight\", \"Type\": \"Lag\", \"UoM\": \"Kg\", \"Period\": \"2022Q1\", \"MeasurementID\": \"3\", \"Week\": \"2022-01-31\", \"Function\": \"Value\", \"Measurement\": \"\", \"Measure key\": \"(2022Q1) Weight\"}, {\"MeasureID\": \"05a85df9\", \"Measure\": \"Weight\", \"Type\": \"Lag\", \"UoM\": \"Kg\", \"Period\": \"2022Q1\", \"MeasurementID\": \"4\", \"Week\": \"2022-02-07\", \"Function\": \"Value\", \"Measurement\": \"\", \"Measure key\": \"(2022Q1) Weight\"}, {\"MeasureID\": \"05a85df9\", \"Measure\": \"Weight\", \"Type\": \"Lag\", \"UoM\": \"Kg\", \"Period\": \"2022Q1\", \"MeasurementID\": \"5\", \"Week\": \"2022-02-14\", \"Function\": \"Value\", \"Measurement\": \"\", \"Measure key\": \"(2022Q1) Weight\"}, {\"MeasureID\": \"05a85df9\", \"Measure\": \"Weight\", \"Type\": \"Lag\", \"UoM\": \"Kg\", \"Period\": \"2022Q1\", \"MeasurementID\": \"6\", \"Week\": \"2022-02-21\", \"Function\": \"Value\", \"Measurement\": \"\", \"Measure key\": \"(2022Q1) Weight\"}, {\"MeasureID\": \"05a85df9\", \"Measure\": \"Weight\", \"Type\": \"Lag\", \"UoM\": \"Kg\", \"Period\": \"2022Q1\", \"MeasurementID\": \"7\", \"Week\": \"2022-02-28\", \"Function\": \"Value\", \"Measurement\": \"\", \"Measure key\": \"(2022Q1) Weight\"}, {\"MeasureID\": \"05a85df9\", \"Measure\": \"Weight\", \"Type\": \"Lag\", \"UoM\": \"Kg\", \"Period\": \"2022Q1\", \"MeasurementID\": \"8\", \"Week\": \"2022-03-07\", \"Function\": \"Value\", \"Measurement\": \"\", \"Measure key\": \"(2022Q1) Weight\"}, {\"MeasureID\": \"05a85df9\", \"Measure\": \"Weight\", \"Type\": \"Lag\", \"UoM\": \"Kg\", \"Period\": \"2022Q1\", \"MeasurementID\": \"9\", \"Week\": \"2022-03-14\", \"Function\": \"Value\", \"Measurement\": \"\", \"Measure key\": \"(2022Q1) Weight\"}, {\"MeasureID\": \"05a85df9\", \"Measure\": \"Weight\", \"Type\": \"Lag\", \"UoM\": \"Kg\", \"Period\": \"2022Q1\", \"MeasurementID\": \"10\", \"Week\": \"2022-03-21\", \"Function\": \"Value\", \"Measurement\": \"\", \"Measure key\": \"(2022Q1) Weight\"}, {\"MeasureID\": \"05a85df9\", \"Measure\": \"Weight\", \"Type\": \"Lag\", \"UoM\": \"Kg\", \"Period\": \"2022Q1\", \"MeasurementID\": \"11\", \"Week\": \"2022-03-28\", \"Function\": \"Value\", \"Measurement\": \"\", \"Measure key\": \"(2022Q1) Weight\"}], \"data-07c4d7290c0fdf6121a9b7191dc288aa\": [{\"MeasureID\": \"5fa513b6\", \"Measure\": \"Days above the WW allowance\", \"Type\": \"Lead\", \"UoM\": \"day\", \"Period\": \"2022Q1\", \"MeasurementID\": \"12\", \"Week\": \"2022-01-10\", \"Function\": \"Target\", \"Measurement\": \"0\", \"Measure key\": \"(2022Q1) Days above the WW allowance\"}, {\"MeasureID\": \"5fa513b6\", \"Measure\": \"Days above the WW allowance\", \"Type\": \"Lead\", \"UoM\": \"day\", \"Period\": \"2022Q1\", \"MeasurementID\": \"13\", \"Week\": \"2022-01-17\", \"Function\": \"Target\", \"Measurement\": \"0\", \"Measure key\": \"(2022Q1) Days above the WW allowance\"}, {\"MeasureID\": \"5fa513b6\", \"Measure\": \"Days above the WW allowance\", \"Type\": \"Lead\", \"UoM\": \"day\", \"Period\": \"2022Q1\", \"MeasurementID\": \"14\", \"Week\": \"2022-01-24\", \"Function\": \"Target\", \"Measurement\": \"0\", \"Measure key\": \"(2022Q1) Days above the WW allowance\"}, {\"MeasureID\": \"5fa513b6\", \"Measure\": \"Days above the WW allowance\", \"Type\": \"Lead\", \"UoM\": \"day\", \"Period\": \"2022Q1\", \"MeasurementID\": \"15\", \"Week\": \"2022-01-31\", \"Function\": \"Target\", \"Measurement\": \"0\", \"Measure key\": \"(2022Q1) Days above the WW allowance\"}, {\"MeasureID\": \"5fa513b6\", \"Measure\": \"Days above the WW allowance\", \"Type\": \"Lead\", \"UoM\": \"day\", \"Period\": \"2022Q1\", \"MeasurementID\": \"16\", \"Week\": \"2022-02-07\", \"Function\": \"Target\", \"Measurement\": \"0\", \"Measure key\": \"(2022Q1) Days above the WW allowance\"}, {\"MeasureID\": \"5fa513b6\", \"Measure\": \"Days above the WW allowance\", \"Type\": \"Lead\", \"UoM\": \"day\", \"Period\": \"2022Q1\", \"MeasurementID\": \"17\", \"Week\": \"2022-02-14\", \"Function\": \"Target\", \"Measurement\": \"0\", \"Measure key\": \"(2022Q1) Days above the WW allowance\"}, {\"MeasureID\": \"5fa513b6\", \"Measure\": \"Days above the WW allowance\", \"Type\": \"Lead\", \"UoM\": \"day\", \"Period\": \"2022Q1\", \"MeasurementID\": \"18\", \"Week\": \"2022-02-21\", \"Function\": \"Target\", \"Measurement\": \"0\", \"Measure key\": \"(2022Q1) Days above the WW allowance\"}, {\"MeasureID\": \"5fa513b6\", \"Measure\": \"Days above the WW allowance\", \"Type\": \"Lead\", \"UoM\": \"day\", \"Period\": \"2022Q1\", \"MeasurementID\": \"19\", \"Week\": \"2022-02-28\", \"Function\": \"Target\", \"Measurement\": \"0\", \"Measure key\": \"(2022Q1) Days above the WW allowance\"}, {\"MeasureID\": \"5fa513b6\", \"Measure\": \"Days above the WW allowance\", \"Type\": \"Lead\", \"UoM\": \"day\", \"Period\": \"2022Q1\", \"MeasurementID\": \"20\", \"Week\": \"2022-03-07\", \"Function\": \"Target\", \"Measurement\": \"0\", \"Measure key\": \"(2022Q1) Days above the WW allowance\"}, {\"MeasureID\": \"5fa513b6\", \"Measure\": \"Days above the WW allowance\", \"Type\": \"Lead\", \"UoM\": \"day\", \"Period\": \"2022Q1\", \"MeasurementID\": \"21\", \"Week\": \"2022-03-14\", \"Function\": \"Target\", \"Measurement\": \"0\", \"Measure key\": \"(2022Q1) Days above the WW allowance\"}, {\"MeasureID\": \"5fa513b6\", \"Measure\": \"Days above the WW allowance\", \"Type\": \"Lead\", \"UoM\": \"day\", \"Period\": \"2022Q1\", \"MeasurementID\": \"22\", \"Week\": \"2022-03-21\", \"Function\": \"Target\", \"Measurement\": \"0\", \"Measure key\": \"(2022Q1) Days above the WW allowance\"}, {\"MeasureID\": \"5fa513b6\", \"Measure\": \"Days above the WW allowance\", \"Type\": \"Lead\", \"UoM\": \"day\", \"Period\": \"2022Q1\", \"MeasurementID\": \"23\", \"Week\": \"2022-03-28\", \"Function\": \"Target\", \"Measurement\": \"0\", \"Measure key\": \"(2022Q1) Days above the WW allowance\"}, {\"MeasureID\": \"5fa513b6\", \"Measure\": \"Days above the WW allowance\", \"Type\": \"Lead\", \"UoM\": \"day\", \"Period\": \"2022Q1\", \"MeasurementID\": \"12\", \"Week\": \"2022-01-10\", \"Function\": \"Value\", \"Measurement\": \"\", \"Measure key\": \"(2022Q1) Days above the WW allowance\"}, {\"MeasureID\": \"5fa513b6\", \"Measure\": \"Days above the WW allowance\", \"Type\": \"Lead\", \"UoM\": \"day\", \"Period\": \"2022Q1\", \"MeasurementID\": \"13\", \"Week\": \"2022-01-17\", \"Function\": \"Value\", \"Measurement\": \"\", \"Measure key\": \"(2022Q1) Days above the WW allowance\"}, {\"MeasureID\": \"5fa513b6\", \"Measure\": \"Days above the WW allowance\", \"Type\": \"Lead\", \"UoM\": \"day\", \"Period\": \"2022Q1\", \"MeasurementID\": \"14\", \"Week\": \"2022-01-24\", \"Function\": \"Value\", \"Measurement\": \"\", \"Measure key\": \"(2022Q1) Days above the WW allowance\"}, {\"MeasureID\": \"5fa513b6\", \"Measure\": \"Days above the WW allowance\", \"Type\": \"Lead\", \"UoM\": \"day\", \"Period\": \"2022Q1\", \"MeasurementID\": \"15\", \"Week\": \"2022-01-31\", \"Function\": \"Value\", \"Measurement\": \"\", \"Measure key\": \"(2022Q1) Days above the WW allowance\"}, {\"MeasureID\": \"5fa513b6\", \"Measure\": \"Days above the WW allowance\", \"Type\": \"Lead\", \"UoM\": \"day\", \"Period\": \"2022Q1\", \"MeasurementID\": \"16\", \"Week\": \"2022-02-07\", \"Function\": \"Value\", \"Measurement\": \"\", \"Measure key\": \"(2022Q1) Days above the WW allowance\"}, {\"MeasureID\": \"5fa513b6\", \"Measure\": \"Days above the WW allowance\", \"Type\": \"Lead\", \"UoM\": \"day\", \"Period\": \"2022Q1\", \"MeasurementID\": \"17\", \"Week\": \"2022-02-14\", \"Function\": \"Value\", \"Measurement\": \"\", \"Measure key\": \"(2022Q1) Days above the WW allowance\"}, {\"MeasureID\": \"5fa513b6\", \"Measure\": \"Days above the WW allowance\", \"Type\": \"Lead\", \"UoM\": \"day\", \"Period\": \"2022Q1\", \"MeasurementID\": \"18\", \"Week\": \"2022-02-21\", \"Function\": \"Value\", \"Measurement\": \"\", \"Measure key\": \"(2022Q1) Days above the WW allowance\"}, {\"MeasureID\": \"5fa513b6\", \"Measure\": \"Days above the WW allowance\", \"Type\": \"Lead\", \"UoM\": \"day\", \"Period\": \"2022Q1\", \"MeasurementID\": \"19\", \"Week\": \"2022-02-28\", \"Function\": \"Value\", \"Measurement\": \"\", \"Measure key\": \"(2022Q1) Days above the WW allowance\"}, {\"MeasureID\": \"5fa513b6\", \"Measure\": \"Days above the WW allowance\", \"Type\": \"Lead\", \"UoM\": \"day\", \"Period\": \"2022Q1\", \"MeasurementID\": \"20\", \"Week\": \"2022-03-07\", \"Function\": \"Value\", \"Measurement\": \"\", \"Measure key\": \"(2022Q1) Days above the WW allowance\"}, {\"MeasureID\": \"5fa513b6\", \"Measure\": \"Days above the WW allowance\", \"Type\": \"Lead\", \"UoM\": \"day\", \"Period\": \"2022Q1\", \"MeasurementID\": \"21\", \"Week\": \"2022-03-14\", \"Function\": \"Value\", \"Measurement\": \"\", \"Measure key\": \"(2022Q1) Days above the WW allowance\"}, {\"MeasureID\": \"5fa513b6\", \"Measure\": \"Days above the WW allowance\", \"Type\": \"Lead\", \"UoM\": \"day\", \"Period\": \"2022Q1\", \"MeasurementID\": \"22\", \"Week\": \"2022-03-21\", \"Function\": \"Value\", \"Measurement\": \"\", \"Measure key\": \"(2022Q1) Days above the WW allowance\"}, {\"MeasureID\": \"5fa513b6\", \"Measure\": \"Days above the WW allowance\", \"Type\": \"Lead\", \"UoM\": \"day\", \"Period\": \"2022Q1\", \"MeasurementID\": \"23\", \"Week\": \"2022-03-28\", \"Function\": \"Value\", \"Measurement\": \"\", \"Measure key\": \"(2022Q1) Days above the WW allowance\"}], \"data-1986179c0c217e1a106f6ae2ee627870\": [{\"MeasureID\": \"cde17237\", \"Measure\": \"NA meetings\", \"Type\": \"Lead\", \"UoM\": \"meeting\", \"Period\": \"2022Q1\", \"MeasurementID\": \"24\", \"Week\": \"2022-01-10\", \"Function\": \"Target\", \"Measurement\": \"2\", \"Measure key\": \"(2022Q1) NA meetings\"}, {\"MeasureID\": \"cde17237\", \"Measure\": \"NA meetings\", \"Type\": \"Lead\", \"UoM\": \"meeting\", \"Period\": \"2022Q1\", \"MeasurementID\": \"25\", \"Week\": \"2022-01-17\", \"Function\": \"Target\", \"Measurement\": \"2\", \"Measure key\": \"(2022Q1) NA meetings\"}, {\"MeasureID\": \"cde17237\", \"Measure\": \"NA meetings\", \"Type\": \"Lead\", \"UoM\": \"meeting\", \"Period\": \"2022Q1\", \"MeasurementID\": \"26\", \"Week\": \"2022-01-24\", \"Function\": \"Target\", \"Measurement\": \"2\", \"Measure key\": \"(2022Q1) NA meetings\"}, {\"MeasureID\": \"cde17237\", \"Measure\": \"NA meetings\", \"Type\": \"Lead\", \"UoM\": \"meeting\", \"Period\": \"2022Q1\", \"MeasurementID\": \"27\", \"Week\": \"2022-01-31\", \"Function\": \"Target\", \"Measurement\": \"2\", \"Measure key\": \"(2022Q1) NA meetings\"}, {\"MeasureID\": \"cde17237\", \"Measure\": \"NA meetings\", \"Type\": \"Lead\", \"UoM\": \"meeting\", \"Period\": \"2022Q1\", \"MeasurementID\": \"28\", \"Week\": \"2022-02-07\", \"Function\": \"Target\", \"Measurement\": \"2\", \"Measure key\": \"(2022Q1) NA meetings\"}, {\"MeasureID\": \"cde17237\", \"Measure\": \"NA meetings\", \"Type\": \"Lead\", \"UoM\": \"meeting\", \"Period\": \"2022Q1\", \"MeasurementID\": \"29\", \"Week\": \"2022-02-14\", \"Function\": \"Target\", \"Measurement\": \"2\", \"Measure key\": \"(2022Q1) NA meetings\"}, {\"MeasureID\": \"cde17237\", \"Measure\": \"NA meetings\", \"Type\": \"Lead\", \"UoM\": \"meeting\", \"Period\": \"2022Q1\", \"MeasurementID\": \"30\", \"Week\": \"2022-02-21\", \"Function\": \"Target\", \"Measurement\": \"2\", \"Measure key\": \"(2022Q1) NA meetings\"}, {\"MeasureID\": \"cde17237\", \"Measure\": \"NA meetings\", \"Type\": \"Lead\", \"UoM\": \"meeting\", \"Period\": \"2022Q1\", \"MeasurementID\": \"31\", \"Week\": \"2022-02-28\", \"Function\": \"Target\", \"Measurement\": \"2\", \"Measure key\": \"(2022Q1) NA meetings\"}, {\"MeasureID\": \"cde17237\", \"Measure\": \"NA meetings\", \"Type\": \"Lead\", \"UoM\": \"meeting\", \"Period\": \"2022Q1\", \"MeasurementID\": \"32\", \"Week\": \"2022-03-07\", \"Function\": \"Target\", \"Measurement\": \"2\", \"Measure key\": \"(2022Q1) NA meetings\"}, {\"MeasureID\": \"cde17237\", \"Measure\": \"NA meetings\", \"Type\": \"Lead\", \"UoM\": \"meeting\", \"Period\": \"2022Q1\", \"MeasurementID\": \"33\", \"Week\": \"2022-03-14\", \"Function\": \"Target\", \"Measurement\": \"2\", \"Measure key\": \"(2022Q1) NA meetings\"}, {\"MeasureID\": \"cde17237\", \"Measure\": \"NA meetings\", \"Type\": \"Lead\", \"UoM\": \"meeting\", \"Period\": \"2022Q1\", \"MeasurementID\": \"34\", \"Week\": \"2022-03-21\", \"Function\": \"Target\", \"Measurement\": \"2\", \"Measure key\": \"(2022Q1) NA meetings\"}, {\"MeasureID\": \"cde17237\", \"Measure\": \"NA meetings\", \"Type\": \"Lead\", \"UoM\": \"meeting\", \"Period\": \"2022Q1\", \"MeasurementID\": \"35\", \"Week\": \"2022-03-28\", \"Function\": \"Target\", \"Measurement\": \"2\", \"Measure key\": \"(2022Q1) NA meetings\"}, {\"MeasureID\": \"cde17237\", \"Measure\": \"NA meetings\", \"Type\": \"Lead\", \"UoM\": \"meeting\", \"Period\": \"2022Q1\", \"MeasurementID\": \"24\", \"Week\": \"2022-01-10\", \"Function\": \"Value\", \"Measurement\": \"\", \"Measure key\": \"(2022Q1) NA meetings\"}, {\"MeasureID\": \"cde17237\", \"Measure\": \"NA meetings\", \"Type\": \"Lead\", \"UoM\": \"meeting\", \"Period\": \"2022Q1\", \"MeasurementID\": \"25\", \"Week\": \"2022-01-17\", \"Function\": \"Value\", \"Measurement\": \"\", \"Measure key\": \"(2022Q1) NA meetings\"}, {\"MeasureID\": \"cde17237\", \"Measure\": \"NA meetings\", \"Type\": \"Lead\", \"UoM\": \"meeting\", \"Period\": \"2022Q1\", \"MeasurementID\": \"26\", \"Week\": \"2022-01-24\", \"Function\": \"Value\", \"Measurement\": \"\", \"Measure key\": \"(2022Q1) NA meetings\"}, {\"MeasureID\": \"cde17237\", \"Measure\": \"NA meetings\", \"Type\": \"Lead\", \"UoM\": \"meeting\", \"Period\": \"2022Q1\", \"MeasurementID\": \"27\", \"Week\": \"2022-01-31\", \"Function\": \"Value\", \"Measurement\": \"\", \"Measure key\": \"(2022Q1) NA meetings\"}, {\"MeasureID\": \"cde17237\", \"Measure\": \"NA meetings\", \"Type\": \"Lead\", \"UoM\": \"meeting\", \"Period\": \"2022Q1\", \"MeasurementID\": \"28\", \"Week\": \"2022-02-07\", \"Function\": \"Value\", \"Measurement\": \"\", \"Measure key\": \"(2022Q1) NA meetings\"}, {\"MeasureID\": \"cde17237\", \"Measure\": \"NA meetings\", \"Type\": \"Lead\", \"UoM\": \"meeting\", \"Period\": \"2022Q1\", \"MeasurementID\": \"29\", \"Week\": \"2022-02-14\", \"Function\": \"Value\", \"Measurement\": \"\", \"Measure key\": \"(2022Q1) NA meetings\"}, {\"MeasureID\": \"cde17237\", \"Measure\": \"NA meetings\", \"Type\": \"Lead\", \"UoM\": \"meeting\", \"Period\": \"2022Q1\", \"MeasurementID\": \"30\", \"Week\": \"2022-02-21\", \"Function\": \"Value\", \"Measurement\": \"\", \"Measure key\": \"(2022Q1) NA meetings\"}, {\"MeasureID\": \"cde17237\", \"Measure\": \"NA meetings\", \"Type\": \"Lead\", \"UoM\": \"meeting\", \"Period\": \"2022Q1\", \"MeasurementID\": \"31\", \"Week\": \"2022-02-28\", \"Function\": \"Value\", \"Measurement\": \"\", \"Measure key\": \"(2022Q1) NA meetings\"}, {\"MeasureID\": \"cde17237\", \"Measure\": \"NA meetings\", \"Type\": \"Lead\", \"UoM\": \"meeting\", \"Period\": \"2022Q1\", \"MeasurementID\": \"32\", \"Week\": \"2022-03-07\", \"Function\": \"Value\", \"Measurement\": \"\", \"Measure key\": \"(2022Q1) NA meetings\"}, {\"MeasureID\": \"cde17237\", \"Measure\": \"NA meetings\", \"Type\": \"Lead\", \"UoM\": \"meeting\", \"Period\": \"2022Q1\", \"MeasurementID\": \"33\", \"Week\": \"2022-03-14\", \"Function\": \"Value\", \"Measurement\": \"\", \"Measure key\": \"(2022Q1) NA meetings\"}, {\"MeasureID\": \"cde17237\", \"Measure\": \"NA meetings\", \"Type\": \"Lead\", \"UoM\": \"meeting\", \"Period\": \"2022Q1\", \"MeasurementID\": \"34\", \"Week\": \"2022-03-21\", \"Function\": \"Value\", \"Measurement\": \"\", \"Measure key\": \"(2022Q1) NA meetings\"}, {\"MeasureID\": \"cde17237\", \"Measure\": \"NA meetings\", \"Type\": \"Lead\", \"UoM\": \"meeting\", \"Period\": \"2022Q1\", \"MeasurementID\": \"35\", \"Week\": \"2022-03-28\", \"Function\": \"Value\", \"Measurement\": \"\", \"Measure key\": \"(2022Q1) NA meetings\"}], \"data-445584e4bd845288d153d54911f12889\": [{\"MeasureID\": \"5f83d0df\", \"Measure\": \"Meditation hours\", \"Type\": \"Lead\", \"UoM\": \"h\", \"Period\": \"2022Q1\", \"MeasurementID\": \"36\", \"Week\": \"2022-01-10\", \"Function\": \"Target\", \"Measurement\": \"2\", \"Measure key\": \"(2022Q1) Meditation hours\"}, {\"MeasureID\": \"5f83d0df\", \"Measure\": \"Meditation hours\", \"Type\": \"Lead\", \"UoM\": \"h\", \"Period\": \"2022Q1\", \"MeasurementID\": \"37\", \"Week\": \"2022-01-17\", \"Function\": \"Target\", \"Measurement\": \"2\", \"Measure key\": \"(2022Q1) Meditation hours\"}, {\"MeasureID\": \"5f83d0df\", \"Measure\": \"Meditation hours\", \"Type\": \"Lead\", \"UoM\": \"h\", \"Period\": \"2022Q1\", \"MeasurementID\": \"38\", \"Week\": \"2022-01-24\", \"Function\": \"Target\", \"Measurement\": \"2\", \"Measure key\": \"(2022Q1) Meditation hours\"}, {\"MeasureID\": \"5f83d0df\", \"Measure\": \"Meditation hours\", \"Type\": \"Lead\", \"UoM\": \"h\", \"Period\": \"2022Q1\", \"MeasurementID\": \"39\", \"Week\": \"2022-01-31\", \"Function\": \"Target\", \"Measurement\": \"2\", \"Measure key\": \"(2022Q1) Meditation hours\"}, {\"MeasureID\": \"5f83d0df\", \"Measure\": \"Meditation hours\", \"Type\": \"Lead\", \"UoM\": \"h\", \"Period\": \"2022Q1\", \"MeasurementID\": \"40\", \"Week\": \"2022-02-07\", \"Function\": \"Target\", \"Measurement\": \"2\", \"Measure key\": \"(2022Q1) Meditation hours\"}, {\"MeasureID\": \"5f83d0df\", \"Measure\": \"Meditation hours\", \"Type\": \"Lead\", \"UoM\": \"h\", \"Period\": \"2022Q1\", \"MeasurementID\": \"41\", \"Week\": \"2022-02-14\", \"Function\": \"Target\", \"Measurement\": \"2\", \"Measure key\": \"(2022Q1) Meditation hours\"}, {\"MeasureID\": \"5f83d0df\", \"Measure\": \"Meditation hours\", \"Type\": \"Lead\", \"UoM\": \"h\", \"Period\": \"2022Q1\", \"MeasurementID\": \"42\", \"Week\": \"2022-02-21\", \"Function\": \"Target\", \"Measurement\": \"2\", \"Measure key\": \"(2022Q1) Meditation hours\"}, {\"MeasureID\": \"5f83d0df\", \"Measure\": \"Meditation hours\", \"Type\": \"Lead\", \"UoM\": \"h\", \"Period\": \"2022Q1\", \"MeasurementID\": \"43\", \"Week\": \"2022-02-28\", \"Function\": \"Target\", \"Measurement\": \"2\", \"Measure key\": \"(2022Q1) Meditation hours\"}, {\"MeasureID\": \"5f83d0df\", \"Measure\": \"Meditation hours\", \"Type\": \"Lead\", \"UoM\": \"h\", \"Period\": \"2022Q1\", \"MeasurementID\": \"44\", \"Week\": \"2022-03-07\", \"Function\": \"Target\", \"Measurement\": \"2\", \"Measure key\": \"(2022Q1) Meditation hours\"}, {\"MeasureID\": \"5f83d0df\", \"Measure\": \"Meditation hours\", \"Type\": \"Lead\", \"UoM\": \"h\", \"Period\": \"2022Q1\", \"MeasurementID\": \"45\", \"Week\": \"2022-03-14\", \"Function\": \"Target\", \"Measurement\": \"2\", \"Measure key\": \"(2022Q1) Meditation hours\"}, {\"MeasureID\": \"5f83d0df\", \"Measure\": \"Meditation hours\", \"Type\": \"Lead\", \"UoM\": \"h\", \"Period\": \"2022Q1\", \"MeasurementID\": \"46\", \"Week\": \"2022-03-21\", \"Function\": \"Target\", \"Measurement\": \"2\", \"Measure key\": \"(2022Q1) Meditation hours\"}, {\"MeasureID\": \"5f83d0df\", \"Measure\": \"Meditation hours\", \"Type\": \"Lead\", \"UoM\": \"h\", \"Period\": \"2022Q1\", \"MeasurementID\": \"47\", \"Week\": \"2022-03-28\", \"Function\": \"Target\", \"Measurement\": \"2\", \"Measure key\": \"(2022Q1) Meditation hours\"}, {\"MeasureID\": \"5f83d0df\", \"Measure\": \"Meditation hours\", \"Type\": \"Lead\", \"UoM\": \"h\", \"Period\": \"2022Q1\", \"MeasurementID\": \"36\", \"Week\": \"2022-01-10\", \"Function\": \"Value\", \"Measurement\": \"\", \"Measure key\": \"(2022Q1) Meditation hours\"}, {\"MeasureID\": \"5f83d0df\", \"Measure\": \"Meditation hours\", \"Type\": \"Lead\", \"UoM\": \"h\", \"Period\": \"2022Q1\", \"MeasurementID\": \"37\", \"Week\": \"2022-01-17\", \"Function\": \"Value\", \"Measurement\": \"\", \"Measure key\": \"(2022Q1) Meditation hours\"}, {\"MeasureID\": \"5f83d0df\", \"Measure\": \"Meditation hours\", \"Type\": \"Lead\", \"UoM\": \"h\", \"Period\": \"2022Q1\", \"MeasurementID\": \"38\", \"Week\": \"2022-01-24\", \"Function\": \"Value\", \"Measurement\": \"\", \"Measure key\": \"(2022Q1) Meditation hours\"}, {\"MeasureID\": \"5f83d0df\", \"Measure\": \"Meditation hours\", \"Type\": \"Lead\", \"UoM\": \"h\", \"Period\": \"2022Q1\", \"MeasurementID\": \"39\", \"Week\": \"2022-01-31\", \"Function\": \"Value\", \"Measurement\": \"\", \"Measure key\": \"(2022Q1) Meditation hours\"}, {\"MeasureID\": \"5f83d0df\", \"Measure\": \"Meditation hours\", \"Type\": \"Lead\", \"UoM\": \"h\", \"Period\": \"2022Q1\", \"MeasurementID\": \"40\", \"Week\": \"2022-02-07\", \"Function\": \"Value\", \"Measurement\": \"\", \"Measure key\": \"(2022Q1) Meditation hours\"}, {\"MeasureID\": \"5f83d0df\", \"Measure\": \"Meditation hours\", \"Type\": \"Lead\", \"UoM\": \"h\", \"Period\": \"2022Q1\", \"MeasurementID\": \"41\", \"Week\": \"2022-02-14\", \"Function\": \"Value\", \"Measurement\": \"\", \"Measure key\": \"(2022Q1) Meditation hours\"}, {\"MeasureID\": \"5f83d0df\", \"Measure\": \"Meditation hours\", \"Type\": \"Lead\", \"UoM\": \"h\", \"Period\": \"2022Q1\", \"MeasurementID\": \"42\", \"Week\": \"2022-02-21\", \"Function\": \"Value\", \"Measurement\": \"\", \"Measure key\": \"(2022Q1) Meditation hours\"}, {\"MeasureID\": \"5f83d0df\", \"Measure\": \"Meditation hours\", \"Type\": \"Lead\", \"UoM\": \"h\", \"Period\": \"2022Q1\", \"MeasurementID\": \"43\", \"Week\": \"2022-02-28\", \"Function\": \"Value\", \"Measurement\": \"\", \"Measure key\": \"(2022Q1) Meditation hours\"}, {\"MeasureID\": \"5f83d0df\", \"Measure\": \"Meditation hours\", \"Type\": \"Lead\", \"UoM\": \"h\", \"Period\": \"2022Q1\", \"MeasurementID\": \"44\", \"Week\": \"2022-03-07\", \"Function\": \"Value\", \"Measurement\": \"\", \"Measure key\": \"(2022Q1) Meditation hours\"}, {\"MeasureID\": \"5f83d0df\", \"Measure\": \"Meditation hours\", \"Type\": \"Lead\", \"UoM\": \"h\", \"Period\": \"2022Q1\", \"MeasurementID\": \"45\", \"Week\": \"2022-03-14\", \"Function\": \"Value\", \"Measurement\": \"\", \"Measure key\": \"(2022Q1) Meditation hours\"}, {\"MeasureID\": \"5f83d0df\", \"Measure\": \"Meditation hours\", \"Type\": \"Lead\", \"UoM\": \"h\", \"Period\": \"2022Q1\", \"MeasurementID\": \"46\", \"Week\": \"2022-03-21\", \"Function\": \"Value\", \"Measurement\": \"\", \"Measure key\": \"(2022Q1) Meditation hours\"}, {\"MeasureID\": \"5f83d0df\", \"Measure\": \"Meditation hours\", \"Type\": \"Lead\", \"UoM\": \"h\", \"Period\": \"2022Q1\", \"MeasurementID\": \"47\", \"Week\": \"2022-03-28\", \"Function\": \"Value\", \"Measurement\": \"\", \"Measure key\": \"(2022Q1) Meditation hours\"}], \"data-8e4f61c0ebd65f98b1a180114055c94f\": [{\"MeasureID\": \"2b30159c\", \"Measure\": \"Exercise hours\", \"Type\": \"Lead\", \"UoM\": \"h\", \"Period\": \"2022Q1\", \"MeasurementID\": \"48\", \"Week\": \"2022-01-10\", \"Function\": \"Target\", \"Measurement\": \"1\", \"Measure key\": \"(2022Q1) Exercise hours\"}, {\"MeasureID\": \"2b30159c\", \"Measure\": \"Exercise hours\", \"Type\": \"Lead\", \"UoM\": \"h\", \"Period\": \"2022Q1\", \"MeasurementID\": \"49\", \"Week\": \"2022-01-17\", \"Function\": \"Target\", \"Measurement\": \"2\", \"Measure key\": \"(2022Q1) Exercise hours\"}, {\"MeasureID\": \"2b30159c\", \"Measure\": \"Exercise hours\", \"Type\": \"Lead\", \"UoM\": \"h\", \"Period\": \"2022Q1\", \"MeasurementID\": \"50\", \"Week\": \"2022-01-24\", \"Function\": \"Target\", \"Measurement\": \"3\", \"Measure key\": \"(2022Q1) Exercise hours\"}, {\"MeasureID\": \"2b30159c\", \"Measure\": \"Exercise hours\", \"Type\": \"Lead\", \"UoM\": \"h\", \"Period\": \"2022Q1\", \"MeasurementID\": \"51\", \"Week\": \"2022-01-31\", \"Function\": \"Target\", \"Measurement\": \"3\", \"Measure key\": \"(2022Q1) Exercise hours\"}, {\"MeasureID\": \"2b30159c\", \"Measure\": \"Exercise hours\", \"Type\": \"Lead\", \"UoM\": \"h\", \"Period\": \"2022Q1\", \"MeasurementID\": \"52\", \"Week\": \"2022-02-07\", \"Function\": \"Target\", \"Measurement\": \"3\", \"Measure key\": \"(2022Q1) Exercise hours\"}, {\"MeasureID\": \"2b30159c\", \"Measure\": \"Exercise hours\", \"Type\": \"Lead\", \"UoM\": \"h\", \"Period\": \"2022Q1\", \"MeasurementID\": \"53\", \"Week\": \"2022-02-14\", \"Function\": \"Target\", \"Measurement\": \"3\", \"Measure key\": \"(2022Q1) Exercise hours\"}, {\"MeasureID\": \"2b30159c\", \"Measure\": \"Exercise hours\", \"Type\": \"Lead\", \"UoM\": \"h\", \"Period\": \"2022Q1\", \"MeasurementID\": \"54\", \"Week\": \"2022-02-21\", \"Function\": \"Target\", \"Measurement\": \"3\", \"Measure key\": \"(2022Q1) Exercise hours\"}, {\"MeasureID\": \"2b30159c\", \"Measure\": \"Exercise hours\", \"Type\": \"Lead\", \"UoM\": \"h\", \"Period\": \"2022Q1\", \"MeasurementID\": \"55\", \"Week\": \"2022-02-28\", \"Function\": \"Target\", \"Measurement\": \"3\", \"Measure key\": \"(2022Q1) Exercise hours\"}, {\"MeasureID\": \"2b30159c\", \"Measure\": \"Exercise hours\", \"Type\": \"Lead\", \"UoM\": \"h\", \"Period\": \"2022Q1\", \"MeasurementID\": \"56\", \"Week\": \"2022-03-07\", \"Function\": \"Target\", \"Measurement\": \"3\", \"Measure key\": \"(2022Q1) Exercise hours\"}, {\"MeasureID\": \"2b30159c\", \"Measure\": \"Exercise hours\", \"Type\": \"Lead\", \"UoM\": \"h\", \"Period\": \"2022Q1\", \"MeasurementID\": \"57\", \"Week\": \"2022-03-14\", \"Function\": \"Target\", \"Measurement\": \"3\", \"Measure key\": \"(2022Q1) Exercise hours\"}, {\"MeasureID\": \"2b30159c\", \"Measure\": \"Exercise hours\", \"Type\": \"Lead\", \"UoM\": \"h\", \"Period\": \"2022Q1\", \"MeasurementID\": \"58\", \"Week\": \"2022-03-21\", \"Function\": \"Target\", \"Measurement\": \"3\", \"Measure key\": \"(2022Q1) Exercise hours\"}, {\"MeasureID\": \"2b30159c\", \"Measure\": \"Exercise hours\", \"Type\": \"Lead\", \"UoM\": \"h\", \"Period\": \"2022Q1\", \"MeasurementID\": \"59\", \"Week\": \"2022-03-28\", \"Function\": \"Target\", \"Measurement\": \"3\", \"Measure key\": \"(2022Q1) Exercise hours\"}, {\"MeasureID\": \"2b30159c\", \"Measure\": \"Exercise hours\", \"Type\": \"Lead\", \"UoM\": \"h\", \"Period\": \"2022Q1\", \"MeasurementID\": \"48\", \"Week\": \"2022-01-10\", \"Function\": \"Value\", \"Measurement\": \"\", \"Measure key\": \"(2022Q1) Exercise hours\"}, {\"MeasureID\": \"2b30159c\", \"Measure\": \"Exercise hours\", \"Type\": \"Lead\", \"UoM\": \"h\", \"Period\": \"2022Q1\", \"MeasurementID\": \"49\", \"Week\": \"2022-01-17\", \"Function\": \"Value\", \"Measurement\": \"\", \"Measure key\": \"(2022Q1) Exercise hours\"}, {\"MeasureID\": \"2b30159c\", \"Measure\": \"Exercise hours\", \"Type\": \"Lead\", \"UoM\": \"h\", \"Period\": \"2022Q1\", \"MeasurementID\": \"50\", \"Week\": \"2022-01-24\", \"Function\": \"Value\", \"Measurement\": \"\", \"Measure key\": \"(2022Q1) Exercise hours\"}, {\"MeasureID\": \"2b30159c\", \"Measure\": \"Exercise hours\", \"Type\": \"Lead\", \"UoM\": \"h\", \"Period\": \"2022Q1\", \"MeasurementID\": \"51\", \"Week\": \"2022-01-31\", \"Function\": \"Value\", \"Measurement\": \"\", \"Measure key\": \"(2022Q1) Exercise hours\"}, {\"MeasureID\": \"2b30159c\", \"Measure\": \"Exercise hours\", \"Type\": \"Lead\", \"UoM\": \"h\", \"Period\": \"2022Q1\", \"MeasurementID\": \"52\", \"Week\": \"2022-02-07\", \"Function\": \"Value\", \"Measurement\": \"\", \"Measure key\": \"(2022Q1) Exercise hours\"}, {\"MeasureID\": \"2b30159c\", \"Measure\": \"Exercise hours\", \"Type\": \"Lead\", \"UoM\": \"h\", \"Period\": \"2022Q1\", \"MeasurementID\": \"53\", \"Week\": \"2022-02-14\", \"Function\": \"Value\", \"Measurement\": \"\", \"Measure key\": \"(2022Q1) Exercise hours\"}, {\"MeasureID\": \"2b30159c\", \"Measure\": \"Exercise hours\", \"Type\": \"Lead\", \"UoM\": \"h\", \"Period\": \"2022Q1\", \"MeasurementID\": \"54\", \"Week\": \"2022-02-21\", \"Function\": \"Value\", \"Measurement\": \"\", \"Measure key\": \"(2022Q1) Exercise hours\"}, {\"MeasureID\": \"2b30159c\", \"Measure\": \"Exercise hours\", \"Type\": \"Lead\", \"UoM\": \"h\", \"Period\": \"2022Q1\", \"MeasurementID\": \"55\", \"Week\": \"2022-02-28\", \"Function\": \"Value\", \"Measurement\": \"\", \"Measure key\": \"(2022Q1) Exercise hours\"}, {\"MeasureID\": \"2b30159c\", \"Measure\": \"Exercise hours\", \"Type\": \"Lead\", \"UoM\": \"h\", \"Period\": \"2022Q1\", \"MeasurementID\": \"56\", \"Week\": \"2022-03-07\", \"Function\": \"Value\", \"Measurement\": \"\", \"Measure key\": \"(2022Q1) Exercise hours\"}, {\"MeasureID\": \"2b30159c\", \"Measure\": \"Exercise hours\", \"Type\": \"Lead\", \"UoM\": \"h\", \"Period\": \"2022Q1\", \"MeasurementID\": \"57\", \"Week\": \"2022-03-14\", \"Function\": \"Value\", \"Measurement\": \"\", \"Measure key\": \"(2022Q1) Exercise hours\"}, {\"MeasureID\": \"2b30159c\", \"Measure\": \"Exercise hours\", \"Type\": \"Lead\", \"UoM\": \"h\", \"Period\": \"2022Q1\", \"MeasurementID\": \"58\", \"Week\": \"2022-03-21\", \"Function\": \"Value\", \"Measurement\": \"\", \"Measure key\": \"(2022Q1) Exercise hours\"}, {\"MeasureID\": \"2b30159c\", \"Measure\": \"Exercise hours\", \"Type\": \"Lead\", \"UoM\": \"h\", \"Period\": \"2022Q1\", \"MeasurementID\": \"59\", \"Week\": \"2022-03-28\", \"Function\": \"Value\", \"Measurement\": \"\", \"Measure key\": \"(2022Q1) Exercise hours\"}]}}, {\"mode\": \"vega-lite\"});\n",
              "</script>"
            ]
          },
          "metadata": {},
          "execution_count": 217
        }
      ]
    },
    {
      "cell_type": "code",
      "source": [
        "graphs=None\n",
        "for measure in df['Measure'].unique():\n",
        "  source = df[(df['Period']==period)&(df['Measure']==measure)]\n",
        "  bar = alt.Chart(source[source['Function']=='Value']).mark_bar().encode(\n",
        "    x=alt.X('Week:O',title=None),\n",
        "    y=alt.Y('Measurement:Q',title=measure)\n",
        "  ).properties(\n",
        "        width=400,\n",
        "        height=200)\n",
        "\n",
        "  tick = (alt.Chart(source[source['Function']=='Target']).\n",
        "          mark_tick(color='red',\n",
        "    thickness=2).encode(\n",
        "    x=alt.X('Week:O',title=None),\n",
        "    y=alt.Y('Measurement:Q',stack=None,title=measure)\n",
        "  ).properties(\n",
        "        width=400,\n",
        "        height=200))\n",
        "  \n",
        "  graph = bar + tick\n",
        "\n",
        "  if graphs:\n",
        "    graphs = graphs & graph\n",
        "  else:\n",
        "    graphs = graph\n",
        "      \n",
        "graphs"
      ],
      "metadata": {
        "colab": {
          "base_uri": "https://localhost:8080/",
          "height": 1000
        },
        "id": "suLMcYsd2auc",
        "outputId": "7c11ca4b-40d5-4dc6-e09b-7aa0f896e79e"
      },
      "execution_count": 219,
      "outputs": [
        {
          "output_type": "execute_result",
          "data": {
            "text/plain": [
              "alt.VConcatChart(...)"
            ],
            "text/html": [
              "\n",
              "<div id=\"altair-viz-ade4076cf08744c78084e883183d1152\"></div>\n",
              "<script type=\"text/javascript\">\n",
              "  var VEGA_DEBUG = (typeof VEGA_DEBUG == \"undefined\") ? {} : VEGA_DEBUG;\n",
              "  (function(spec, embedOpt){\n",
              "    let outputDiv = document.currentScript.previousElementSibling;\n",
              "    if (outputDiv.id !== \"altair-viz-ade4076cf08744c78084e883183d1152\") {\n",
              "      outputDiv = document.getElementById(\"altair-viz-ade4076cf08744c78084e883183d1152\");\n",
              "    }\n",
              "    const paths = {\n",
              "      \"vega\": \"https://cdn.jsdelivr.net/npm//vega@5?noext\",\n",
              "      \"vega-lib\": \"https://cdn.jsdelivr.net/npm//vega-lib?noext\",\n",
              "      \"vega-lite\": \"https://cdn.jsdelivr.net/npm//vega-lite@4.17.0?noext\",\n",
              "      \"vega-embed\": \"https://cdn.jsdelivr.net/npm//vega-embed@6?noext\",\n",
              "    };\n",
              "\n",
              "    function maybeLoadScript(lib, version) {\n",
              "      var key = `${lib.replace(\"-\", \"\")}_version`;\n",
              "      return (VEGA_DEBUG[key] == version) ?\n",
              "        Promise.resolve(paths[lib]) :\n",
              "        new Promise(function(resolve, reject) {\n",
              "          var s = document.createElement('script');\n",
              "          document.getElementsByTagName(\"head\")[0].appendChild(s);\n",
              "          s.async = true;\n",
              "          s.onload = () => {\n",
              "            VEGA_DEBUG[key] = version;\n",
              "            return resolve(paths[lib]);\n",
              "          };\n",
              "          s.onerror = () => reject(`Error loading script: ${paths[lib]}`);\n",
              "          s.src = paths[lib];\n",
              "        });\n",
              "    }\n",
              "\n",
              "    function showError(err) {\n",
              "      outputDiv.innerHTML = `<div class=\"error\" style=\"color:red;\">${err}</div>`;\n",
              "      throw err;\n",
              "    }\n",
              "\n",
              "    function displayChart(vegaEmbed) {\n",
              "      vegaEmbed(outputDiv, spec, embedOpt)\n",
              "        .catch(err => showError(`Javascript Error: ${err.message}<br>This usually means there's a typo in your chart specification. See the javascript console for the full traceback.`));\n",
              "    }\n",
              "\n",
              "    if(typeof define === \"function\" && define.amd) {\n",
              "      requirejs.config({paths});\n",
              "      require([\"vega-embed\"], displayChart, err => showError(`Error loading script: ${err.message}`));\n",
              "    } else {\n",
              "      maybeLoadScript(\"vega\", \"5\")\n",
              "        .then(() => maybeLoadScript(\"vega-lite\", \"4.17.0\"))\n",
              "        .then(() => maybeLoadScript(\"vega-embed\", \"6\"))\n",
              "        .catch(showError)\n",
              "        .then(() => displayChart(vegaEmbed));\n",
              "    }\n",
              "  })({\"config\": {\"view\": {\"continuousWidth\": 400, \"continuousHeight\": 300}}, \"vconcat\": [{\"layer\": [{\"data\": {\"name\": \"data-51ad2b4d9f3acbabbb94d01de34c9e6f\"}, \"mark\": \"bar\", \"encoding\": {\"x\": {\"field\": \"Week\", \"title\": null, \"type\": \"ordinal\"}, \"y\": {\"field\": \"Measurement\", \"title\": \"Weight\", \"type\": \"quantitative\"}}, \"height\": 200, \"width\": 400}, {\"data\": {\"name\": \"data-213dbf0b34910de80aaa8746bcb3bbbd\"}, \"mark\": {\"type\": \"tick\", \"color\": \"red\", \"thickness\": 2}, \"encoding\": {\"x\": {\"field\": \"Week\", \"title\": null, \"type\": \"ordinal\"}, \"y\": {\"field\": \"Measurement\", \"stack\": null, \"title\": \"Weight\", \"type\": \"quantitative\"}}, \"height\": 200, \"width\": 400}]}, {\"layer\": [{\"data\": {\"name\": \"data-1ffb2c72ef7025e88e524b993f8c6f5d\"}, \"mark\": \"bar\", \"encoding\": {\"x\": {\"field\": \"Week\", \"title\": null, \"type\": \"ordinal\"}, \"y\": {\"field\": \"Measurement\", \"title\": \"Days above the WW allowance\", \"type\": \"quantitative\"}}, \"height\": 200, \"width\": 400}, {\"data\": {\"name\": \"data-cc22051e8fff4deb455166f5a1c1c995\"}, \"mark\": {\"type\": \"tick\", \"color\": \"red\", \"thickness\": 2}, \"encoding\": {\"x\": {\"field\": \"Week\", \"title\": null, \"type\": \"ordinal\"}, \"y\": {\"field\": \"Measurement\", \"stack\": null, \"title\": \"Days above the WW allowance\", \"type\": \"quantitative\"}}, \"height\": 200, \"width\": 400}]}, {\"layer\": [{\"data\": {\"name\": \"data-705e88dac367d2940887176051cfb0e0\"}, \"mark\": \"bar\", \"encoding\": {\"x\": {\"field\": \"Week\", \"title\": null, \"type\": \"ordinal\"}, \"y\": {\"field\": \"Measurement\", \"title\": \"NA meetings\", \"type\": \"quantitative\"}}, \"height\": 200, \"width\": 400}, {\"data\": {\"name\": \"data-4119b5e0909bbf8ed126bbd9abbc11d3\"}, \"mark\": {\"type\": \"tick\", \"color\": \"red\", \"thickness\": 2}, \"encoding\": {\"x\": {\"field\": \"Week\", \"title\": null, \"type\": \"ordinal\"}, \"y\": {\"field\": \"Measurement\", \"stack\": null, \"title\": \"NA meetings\", \"type\": \"quantitative\"}}, \"height\": 200, \"width\": 400}]}, {\"layer\": [{\"data\": {\"name\": \"data-d5bf44ddd504ff93d4185d584fc2a6a6\"}, \"mark\": \"bar\", \"encoding\": {\"x\": {\"field\": \"Week\", \"title\": null, \"type\": \"ordinal\"}, \"y\": {\"field\": \"Measurement\", \"title\": \"Meditation hours\", \"type\": \"quantitative\"}}, \"height\": 200, \"width\": 400}, {\"data\": {\"name\": \"data-af871a59031885ad58475f812ad2ed29\"}, \"mark\": {\"type\": \"tick\", \"color\": \"red\", \"thickness\": 2}, \"encoding\": {\"x\": {\"field\": \"Week\", \"title\": null, \"type\": \"ordinal\"}, \"y\": {\"field\": \"Measurement\", \"stack\": null, \"title\": \"Meditation hours\", \"type\": \"quantitative\"}}, \"height\": 200, \"width\": 400}]}, {\"layer\": [{\"data\": {\"name\": \"data-ec4b9e62283782572961338ee3a40f61\"}, \"mark\": \"bar\", \"encoding\": {\"x\": {\"field\": \"Week\", \"title\": null, \"type\": \"ordinal\"}, \"y\": {\"field\": \"Measurement\", \"title\": \"Exercise hours\", \"type\": \"quantitative\"}}, \"height\": 200, \"width\": 400}, {\"data\": {\"name\": \"data-94137faf61708818bbe2c0b2cbd433b8\"}, \"mark\": {\"type\": \"tick\", \"color\": \"red\", \"thickness\": 2}, \"encoding\": {\"x\": {\"field\": \"Week\", \"title\": null, \"type\": \"ordinal\"}, \"y\": {\"field\": \"Measurement\", \"stack\": null, \"title\": \"Exercise hours\", \"type\": \"quantitative\"}}, \"height\": 200, \"width\": 400}]}], \"$schema\": \"https://vega.github.io/schema/vega-lite/v4.17.0.json\", \"datasets\": {\"data-51ad2b4d9f3acbabbb94d01de34c9e6f\": [{\"MeasureID\": \"05a85df9\", \"Measure\": \"Weight\", \"Type\": \"Lag\", \"UoM\": \"Kg\", \"Period\": \"2022Q1\", \"MeasurementID\": \"b4cd08ad\", \"Week\": \"2022-01-10\", \"Function\": \"Value\", \"Measurement\": \"99\", \"Measure key\": \"(2022Q1) Weight\"}, {\"MeasureID\": \"05a85df9\", \"Measure\": \"Weight\", \"Type\": \"Lag\", \"UoM\": \"Kg\", \"Period\": \"2022Q1\", \"MeasurementID\": \"1\", \"Week\": \"2022-01-17\", \"Function\": \"Value\", \"Measurement\": \"\", \"Measure key\": \"(2022Q1) Weight\"}, {\"MeasureID\": \"05a85df9\", \"Measure\": \"Weight\", \"Type\": \"Lag\", \"UoM\": \"Kg\", \"Period\": \"2022Q1\", \"MeasurementID\": \"2\", \"Week\": \"2022-01-24\", \"Function\": \"Value\", \"Measurement\": \"\", \"Measure key\": \"(2022Q1) Weight\"}, {\"MeasureID\": \"05a85df9\", \"Measure\": \"Weight\", \"Type\": \"Lag\", \"UoM\": \"Kg\", \"Period\": \"2022Q1\", \"MeasurementID\": \"3\", \"Week\": \"2022-01-31\", \"Function\": \"Value\", \"Measurement\": \"\", \"Measure key\": \"(2022Q1) Weight\"}, {\"MeasureID\": \"05a85df9\", \"Measure\": \"Weight\", \"Type\": \"Lag\", \"UoM\": \"Kg\", \"Period\": \"2022Q1\", \"MeasurementID\": \"4\", \"Week\": \"2022-02-07\", \"Function\": \"Value\", \"Measurement\": \"\", \"Measure key\": \"(2022Q1) Weight\"}, {\"MeasureID\": \"05a85df9\", \"Measure\": \"Weight\", \"Type\": \"Lag\", \"UoM\": \"Kg\", \"Period\": \"2022Q1\", \"MeasurementID\": \"5\", \"Week\": \"2022-02-14\", \"Function\": \"Value\", \"Measurement\": \"\", \"Measure key\": \"(2022Q1) Weight\"}, {\"MeasureID\": \"05a85df9\", \"Measure\": \"Weight\", \"Type\": \"Lag\", \"UoM\": \"Kg\", \"Period\": \"2022Q1\", \"MeasurementID\": \"6\", \"Week\": \"2022-02-21\", \"Function\": \"Value\", \"Measurement\": \"\", \"Measure key\": \"(2022Q1) Weight\"}, {\"MeasureID\": \"05a85df9\", \"Measure\": \"Weight\", \"Type\": \"Lag\", \"UoM\": \"Kg\", \"Period\": \"2022Q1\", \"MeasurementID\": \"7\", \"Week\": \"2022-02-28\", \"Function\": \"Value\", \"Measurement\": \"\", \"Measure key\": \"(2022Q1) Weight\"}, {\"MeasureID\": \"05a85df9\", \"Measure\": \"Weight\", \"Type\": \"Lag\", \"UoM\": \"Kg\", \"Period\": \"2022Q1\", \"MeasurementID\": \"8\", \"Week\": \"2022-03-07\", \"Function\": \"Value\", \"Measurement\": \"\", \"Measure key\": \"(2022Q1) Weight\"}, {\"MeasureID\": \"05a85df9\", \"Measure\": \"Weight\", \"Type\": \"Lag\", \"UoM\": \"Kg\", \"Period\": \"2022Q1\", \"MeasurementID\": \"9\", \"Week\": \"2022-03-14\", \"Function\": \"Value\", \"Measurement\": \"\", \"Measure key\": \"(2022Q1) Weight\"}, {\"MeasureID\": \"05a85df9\", \"Measure\": \"Weight\", \"Type\": \"Lag\", \"UoM\": \"Kg\", \"Period\": \"2022Q1\", \"MeasurementID\": \"10\", \"Week\": \"2022-03-21\", \"Function\": \"Value\", \"Measurement\": \"\", \"Measure key\": \"(2022Q1) Weight\"}, {\"MeasureID\": \"05a85df9\", \"Measure\": \"Weight\", \"Type\": \"Lag\", \"UoM\": \"Kg\", \"Period\": \"2022Q1\", \"MeasurementID\": \"11\", \"Week\": \"2022-03-28\", \"Function\": \"Value\", \"Measurement\": \"\", \"Measure key\": \"(2022Q1) Weight\"}], \"data-213dbf0b34910de80aaa8746bcb3bbbd\": [{\"MeasureID\": \"05a85df9\", \"Measure\": \"Weight\", \"Type\": \"Lag\", \"UoM\": \"Kg\", \"Period\": \"2022Q1\", \"MeasurementID\": \"b4cd08ad\", \"Week\": \"2022-01-10\", \"Function\": \"Target\", \"Measurement\": \"96.5\", \"Measure key\": \"(2022Q1) Weight\"}, {\"MeasureID\": \"05a85df9\", \"Measure\": \"Weight\", \"Type\": \"Lag\", \"UoM\": \"Kg\", \"Period\": \"2022Q1\", \"MeasurementID\": \"1\", \"Week\": \"2022-01-17\", \"Function\": \"Target\", \"Measurement\": \"96\", \"Measure key\": \"(2022Q1) Weight\"}, {\"MeasureID\": \"05a85df9\", \"Measure\": \"Weight\", \"Type\": \"Lag\", \"UoM\": \"Kg\", \"Period\": \"2022Q1\", \"MeasurementID\": \"2\", \"Week\": \"2022-01-24\", \"Function\": \"Target\", \"Measurement\": \"95.5\", \"Measure key\": \"(2022Q1) Weight\"}, {\"MeasureID\": \"05a85df9\", \"Measure\": \"Weight\", \"Type\": \"Lag\", \"UoM\": \"Kg\", \"Period\": \"2022Q1\", \"MeasurementID\": \"3\", \"Week\": \"2022-01-31\", \"Function\": \"Target\", \"Measurement\": \"95\", \"Measure key\": \"(2022Q1) Weight\"}, {\"MeasureID\": \"05a85df9\", \"Measure\": \"Weight\", \"Type\": \"Lag\", \"UoM\": \"Kg\", \"Period\": \"2022Q1\", \"MeasurementID\": \"4\", \"Week\": \"2022-02-07\", \"Function\": \"Target\", \"Measurement\": \"94.5\", \"Measure key\": \"(2022Q1) Weight\"}, {\"MeasureID\": \"05a85df9\", \"Measure\": \"Weight\", \"Type\": \"Lag\", \"UoM\": \"Kg\", \"Period\": \"2022Q1\", \"MeasurementID\": \"5\", \"Week\": \"2022-02-14\", \"Function\": \"Target\", \"Measurement\": \"94\", \"Measure key\": \"(2022Q1) Weight\"}, {\"MeasureID\": \"05a85df9\", \"Measure\": \"Weight\", \"Type\": \"Lag\", \"UoM\": \"Kg\", \"Period\": \"2022Q1\", \"MeasurementID\": \"6\", \"Week\": \"2022-02-21\", \"Function\": \"Target\", \"Measurement\": \"93.5\", \"Measure key\": \"(2022Q1) Weight\"}, {\"MeasureID\": \"05a85df9\", \"Measure\": \"Weight\", \"Type\": \"Lag\", \"UoM\": \"Kg\", \"Period\": \"2022Q1\", \"MeasurementID\": \"7\", \"Week\": \"2022-02-28\", \"Function\": \"Target\", \"Measurement\": \"93\", \"Measure key\": \"(2022Q1) Weight\"}, {\"MeasureID\": \"05a85df9\", \"Measure\": \"Weight\", \"Type\": \"Lag\", \"UoM\": \"Kg\", \"Period\": \"2022Q1\", \"MeasurementID\": \"8\", \"Week\": \"2022-03-07\", \"Function\": \"Target\", \"Measurement\": \"92.5\", \"Measure key\": \"(2022Q1) Weight\"}, {\"MeasureID\": \"05a85df9\", \"Measure\": \"Weight\", \"Type\": \"Lag\", \"UoM\": \"Kg\", \"Period\": \"2022Q1\", \"MeasurementID\": \"9\", \"Week\": \"2022-03-14\", \"Function\": \"Target\", \"Measurement\": \"92\", \"Measure key\": \"(2022Q1) Weight\"}, {\"MeasureID\": \"05a85df9\", \"Measure\": \"Weight\", \"Type\": \"Lag\", \"UoM\": \"Kg\", \"Period\": \"2022Q1\", \"MeasurementID\": \"10\", \"Week\": \"2022-03-21\", \"Function\": \"Target\", \"Measurement\": \"91.5\", \"Measure key\": \"(2022Q1) Weight\"}, {\"MeasureID\": \"05a85df9\", \"Measure\": \"Weight\", \"Type\": \"Lag\", \"UoM\": \"Kg\", \"Period\": \"2022Q1\", \"MeasurementID\": \"11\", \"Week\": \"2022-03-28\", \"Function\": \"Target\", \"Measurement\": \"91\", \"Measure key\": \"(2022Q1) Weight\"}], \"data-1ffb2c72ef7025e88e524b993f8c6f5d\": [{\"MeasureID\": \"5fa513b6\", \"Measure\": \"Days above the WW allowance\", \"Type\": \"Lead\", \"UoM\": \"day\", \"Period\": \"2022Q1\", \"MeasurementID\": \"12\", \"Week\": \"2022-01-10\", \"Function\": \"Value\", \"Measurement\": \"\", \"Measure key\": \"(2022Q1) Days above the WW allowance\"}, {\"MeasureID\": \"5fa513b6\", \"Measure\": \"Days above the WW allowance\", \"Type\": \"Lead\", \"UoM\": \"day\", \"Period\": \"2022Q1\", \"MeasurementID\": \"13\", \"Week\": \"2022-01-17\", \"Function\": \"Value\", \"Measurement\": \"\", \"Measure key\": \"(2022Q1) Days above the WW allowance\"}, {\"MeasureID\": \"5fa513b6\", \"Measure\": \"Days above the WW allowance\", \"Type\": \"Lead\", \"UoM\": \"day\", \"Period\": \"2022Q1\", \"MeasurementID\": \"14\", \"Week\": \"2022-01-24\", \"Function\": \"Value\", \"Measurement\": \"\", \"Measure key\": \"(2022Q1) Days above the WW allowance\"}, {\"MeasureID\": \"5fa513b6\", \"Measure\": \"Days above the WW allowance\", \"Type\": \"Lead\", \"UoM\": \"day\", \"Period\": \"2022Q1\", \"MeasurementID\": \"15\", \"Week\": \"2022-01-31\", \"Function\": \"Value\", \"Measurement\": \"\", \"Measure key\": \"(2022Q1) Days above the WW allowance\"}, {\"MeasureID\": \"5fa513b6\", \"Measure\": \"Days above the WW allowance\", \"Type\": \"Lead\", \"UoM\": \"day\", \"Period\": \"2022Q1\", \"MeasurementID\": \"16\", \"Week\": \"2022-02-07\", \"Function\": \"Value\", \"Measurement\": \"\", \"Measure key\": \"(2022Q1) Days above the WW allowance\"}, {\"MeasureID\": \"5fa513b6\", \"Measure\": \"Days above the WW allowance\", \"Type\": \"Lead\", \"UoM\": \"day\", \"Period\": \"2022Q1\", \"MeasurementID\": \"17\", \"Week\": \"2022-02-14\", \"Function\": \"Value\", \"Measurement\": \"\", \"Measure key\": \"(2022Q1) Days above the WW allowance\"}, {\"MeasureID\": \"5fa513b6\", \"Measure\": \"Days above the WW allowance\", \"Type\": \"Lead\", \"UoM\": \"day\", \"Period\": \"2022Q1\", \"MeasurementID\": \"18\", \"Week\": \"2022-02-21\", \"Function\": \"Value\", \"Measurement\": \"\", \"Measure key\": \"(2022Q1) Days above the WW allowance\"}, {\"MeasureID\": \"5fa513b6\", \"Measure\": \"Days above the WW allowance\", \"Type\": \"Lead\", \"UoM\": \"day\", \"Period\": \"2022Q1\", \"MeasurementID\": \"19\", \"Week\": \"2022-02-28\", \"Function\": \"Value\", \"Measurement\": \"\", \"Measure key\": \"(2022Q1) Days above the WW allowance\"}, {\"MeasureID\": \"5fa513b6\", \"Measure\": \"Days above the WW allowance\", \"Type\": \"Lead\", \"UoM\": \"day\", \"Period\": \"2022Q1\", \"MeasurementID\": \"20\", \"Week\": \"2022-03-07\", \"Function\": \"Value\", \"Measurement\": \"\", \"Measure key\": \"(2022Q1) Days above the WW allowance\"}, {\"MeasureID\": \"5fa513b6\", \"Measure\": \"Days above the WW allowance\", \"Type\": \"Lead\", \"UoM\": \"day\", \"Period\": \"2022Q1\", \"MeasurementID\": \"21\", \"Week\": \"2022-03-14\", \"Function\": \"Value\", \"Measurement\": \"\", \"Measure key\": \"(2022Q1) Days above the WW allowance\"}, {\"MeasureID\": \"5fa513b6\", \"Measure\": \"Days above the WW allowance\", \"Type\": \"Lead\", \"UoM\": \"day\", \"Period\": \"2022Q1\", \"MeasurementID\": \"22\", \"Week\": \"2022-03-21\", \"Function\": \"Value\", \"Measurement\": \"\", \"Measure key\": \"(2022Q1) Days above the WW allowance\"}, {\"MeasureID\": \"5fa513b6\", \"Measure\": \"Days above the WW allowance\", \"Type\": \"Lead\", \"UoM\": \"day\", \"Period\": \"2022Q1\", \"MeasurementID\": \"23\", \"Week\": \"2022-03-28\", \"Function\": \"Value\", \"Measurement\": \"\", \"Measure key\": \"(2022Q1) Days above the WW allowance\"}], \"data-cc22051e8fff4deb455166f5a1c1c995\": [{\"MeasureID\": \"5fa513b6\", \"Measure\": \"Days above the WW allowance\", \"Type\": \"Lead\", \"UoM\": \"day\", \"Period\": \"2022Q1\", \"MeasurementID\": \"12\", \"Week\": \"2022-01-10\", \"Function\": \"Target\", \"Measurement\": \"0\", \"Measure key\": \"(2022Q1) Days above the WW allowance\"}, {\"MeasureID\": \"5fa513b6\", \"Measure\": \"Days above the WW allowance\", \"Type\": \"Lead\", \"UoM\": \"day\", \"Period\": \"2022Q1\", \"MeasurementID\": \"13\", \"Week\": \"2022-01-17\", \"Function\": \"Target\", \"Measurement\": \"0\", \"Measure key\": \"(2022Q1) Days above the WW allowance\"}, {\"MeasureID\": \"5fa513b6\", \"Measure\": \"Days above the WW allowance\", \"Type\": \"Lead\", \"UoM\": \"day\", \"Period\": \"2022Q1\", \"MeasurementID\": \"14\", \"Week\": \"2022-01-24\", \"Function\": \"Target\", \"Measurement\": \"0\", \"Measure key\": \"(2022Q1) Days above the WW allowance\"}, {\"MeasureID\": \"5fa513b6\", \"Measure\": \"Days above the WW allowance\", \"Type\": \"Lead\", \"UoM\": \"day\", \"Period\": \"2022Q1\", \"MeasurementID\": \"15\", \"Week\": \"2022-01-31\", \"Function\": \"Target\", \"Measurement\": \"0\", \"Measure key\": \"(2022Q1) Days above the WW allowance\"}, {\"MeasureID\": \"5fa513b6\", \"Measure\": \"Days above the WW allowance\", \"Type\": \"Lead\", \"UoM\": \"day\", \"Period\": \"2022Q1\", \"MeasurementID\": \"16\", \"Week\": \"2022-02-07\", \"Function\": \"Target\", \"Measurement\": \"0\", \"Measure key\": \"(2022Q1) Days above the WW allowance\"}, {\"MeasureID\": \"5fa513b6\", \"Measure\": \"Days above the WW allowance\", \"Type\": \"Lead\", \"UoM\": \"day\", \"Period\": \"2022Q1\", \"MeasurementID\": \"17\", \"Week\": \"2022-02-14\", \"Function\": \"Target\", \"Measurement\": \"0\", \"Measure key\": \"(2022Q1) Days above the WW allowance\"}, {\"MeasureID\": \"5fa513b6\", \"Measure\": \"Days above the WW allowance\", \"Type\": \"Lead\", \"UoM\": \"day\", \"Period\": \"2022Q1\", \"MeasurementID\": \"18\", \"Week\": \"2022-02-21\", \"Function\": \"Target\", \"Measurement\": \"0\", \"Measure key\": \"(2022Q1) Days above the WW allowance\"}, {\"MeasureID\": \"5fa513b6\", \"Measure\": \"Days above the WW allowance\", \"Type\": \"Lead\", \"UoM\": \"day\", \"Period\": \"2022Q1\", \"MeasurementID\": \"19\", \"Week\": \"2022-02-28\", \"Function\": \"Target\", \"Measurement\": \"0\", \"Measure key\": \"(2022Q1) Days above the WW allowance\"}, {\"MeasureID\": \"5fa513b6\", \"Measure\": \"Days above the WW allowance\", \"Type\": \"Lead\", \"UoM\": \"day\", \"Period\": \"2022Q1\", \"MeasurementID\": \"20\", \"Week\": \"2022-03-07\", \"Function\": \"Target\", \"Measurement\": \"0\", \"Measure key\": \"(2022Q1) Days above the WW allowance\"}, {\"MeasureID\": \"5fa513b6\", \"Measure\": \"Days above the WW allowance\", \"Type\": \"Lead\", \"UoM\": \"day\", \"Period\": \"2022Q1\", \"MeasurementID\": \"21\", \"Week\": \"2022-03-14\", \"Function\": \"Target\", \"Measurement\": \"0\", \"Measure key\": \"(2022Q1) Days above the WW allowance\"}, {\"MeasureID\": \"5fa513b6\", \"Measure\": \"Days above the WW allowance\", \"Type\": \"Lead\", \"UoM\": \"day\", \"Period\": \"2022Q1\", \"MeasurementID\": \"22\", \"Week\": \"2022-03-21\", \"Function\": \"Target\", \"Measurement\": \"0\", \"Measure key\": \"(2022Q1) Days above the WW allowance\"}, {\"MeasureID\": \"5fa513b6\", \"Measure\": \"Days above the WW allowance\", \"Type\": \"Lead\", \"UoM\": \"day\", \"Period\": \"2022Q1\", \"MeasurementID\": \"23\", \"Week\": \"2022-03-28\", \"Function\": \"Target\", \"Measurement\": \"0\", \"Measure key\": \"(2022Q1) Days above the WW allowance\"}], \"data-705e88dac367d2940887176051cfb0e0\": [{\"MeasureID\": \"cde17237\", \"Measure\": \"NA meetings\", \"Type\": \"Lead\", \"UoM\": \"meeting\", \"Period\": \"2022Q1\", \"MeasurementID\": \"24\", \"Week\": \"2022-01-10\", \"Function\": \"Value\", \"Measurement\": \"\", \"Measure key\": \"(2022Q1) NA meetings\"}, {\"MeasureID\": \"cde17237\", \"Measure\": \"NA meetings\", \"Type\": \"Lead\", \"UoM\": \"meeting\", \"Period\": \"2022Q1\", \"MeasurementID\": \"25\", \"Week\": \"2022-01-17\", \"Function\": \"Value\", \"Measurement\": \"\", \"Measure key\": \"(2022Q1) NA meetings\"}, {\"MeasureID\": \"cde17237\", \"Measure\": \"NA meetings\", \"Type\": \"Lead\", \"UoM\": \"meeting\", \"Period\": \"2022Q1\", \"MeasurementID\": \"26\", \"Week\": \"2022-01-24\", \"Function\": \"Value\", \"Measurement\": \"\", \"Measure key\": \"(2022Q1) NA meetings\"}, {\"MeasureID\": \"cde17237\", \"Measure\": \"NA meetings\", \"Type\": \"Lead\", \"UoM\": \"meeting\", \"Period\": \"2022Q1\", \"MeasurementID\": \"27\", \"Week\": \"2022-01-31\", \"Function\": \"Value\", \"Measurement\": \"\", \"Measure key\": \"(2022Q1) NA meetings\"}, {\"MeasureID\": \"cde17237\", \"Measure\": \"NA meetings\", \"Type\": \"Lead\", \"UoM\": \"meeting\", \"Period\": \"2022Q1\", \"MeasurementID\": \"28\", \"Week\": \"2022-02-07\", \"Function\": \"Value\", \"Measurement\": \"\", \"Measure key\": \"(2022Q1) NA meetings\"}, {\"MeasureID\": \"cde17237\", \"Measure\": \"NA meetings\", \"Type\": \"Lead\", \"UoM\": \"meeting\", \"Period\": \"2022Q1\", \"MeasurementID\": \"29\", \"Week\": \"2022-02-14\", \"Function\": \"Value\", \"Measurement\": \"\", \"Measure key\": \"(2022Q1) NA meetings\"}, {\"MeasureID\": \"cde17237\", \"Measure\": \"NA meetings\", \"Type\": \"Lead\", \"UoM\": \"meeting\", \"Period\": \"2022Q1\", \"MeasurementID\": \"30\", \"Week\": \"2022-02-21\", \"Function\": \"Value\", \"Measurement\": \"\", \"Measure key\": \"(2022Q1) NA meetings\"}, {\"MeasureID\": \"cde17237\", \"Measure\": \"NA meetings\", \"Type\": \"Lead\", \"UoM\": \"meeting\", \"Period\": \"2022Q1\", \"MeasurementID\": \"31\", \"Week\": \"2022-02-28\", \"Function\": \"Value\", \"Measurement\": \"\", \"Measure key\": \"(2022Q1) NA meetings\"}, {\"MeasureID\": \"cde17237\", \"Measure\": \"NA meetings\", \"Type\": \"Lead\", \"UoM\": \"meeting\", \"Period\": \"2022Q1\", \"MeasurementID\": \"32\", \"Week\": \"2022-03-07\", \"Function\": \"Value\", \"Measurement\": \"\", \"Measure key\": \"(2022Q1) NA meetings\"}, {\"MeasureID\": \"cde17237\", \"Measure\": \"NA meetings\", \"Type\": \"Lead\", \"UoM\": \"meeting\", \"Period\": \"2022Q1\", \"MeasurementID\": \"33\", \"Week\": \"2022-03-14\", \"Function\": \"Value\", \"Measurement\": \"\", \"Measure key\": \"(2022Q1) NA meetings\"}, {\"MeasureID\": \"cde17237\", \"Measure\": \"NA meetings\", \"Type\": \"Lead\", \"UoM\": \"meeting\", \"Period\": \"2022Q1\", \"MeasurementID\": \"34\", \"Week\": \"2022-03-21\", \"Function\": \"Value\", \"Measurement\": \"\", \"Measure key\": \"(2022Q1) NA meetings\"}, {\"MeasureID\": \"cde17237\", \"Measure\": \"NA meetings\", \"Type\": \"Lead\", \"UoM\": \"meeting\", \"Period\": \"2022Q1\", \"MeasurementID\": \"35\", \"Week\": \"2022-03-28\", \"Function\": \"Value\", \"Measurement\": \"\", \"Measure key\": \"(2022Q1) NA meetings\"}], \"data-4119b5e0909bbf8ed126bbd9abbc11d3\": [{\"MeasureID\": \"cde17237\", \"Measure\": \"NA meetings\", \"Type\": \"Lead\", \"UoM\": \"meeting\", \"Period\": \"2022Q1\", \"MeasurementID\": \"24\", \"Week\": \"2022-01-10\", \"Function\": \"Target\", \"Measurement\": \"2\", \"Measure key\": \"(2022Q1) NA meetings\"}, {\"MeasureID\": \"cde17237\", \"Measure\": \"NA meetings\", \"Type\": \"Lead\", \"UoM\": \"meeting\", \"Period\": \"2022Q1\", \"MeasurementID\": \"25\", \"Week\": \"2022-01-17\", \"Function\": \"Target\", \"Measurement\": \"2\", \"Measure key\": \"(2022Q1) NA meetings\"}, {\"MeasureID\": \"cde17237\", \"Measure\": \"NA meetings\", \"Type\": \"Lead\", \"UoM\": \"meeting\", \"Period\": \"2022Q1\", \"MeasurementID\": \"26\", \"Week\": \"2022-01-24\", \"Function\": \"Target\", \"Measurement\": \"2\", \"Measure key\": \"(2022Q1) NA meetings\"}, {\"MeasureID\": \"cde17237\", \"Measure\": \"NA meetings\", \"Type\": \"Lead\", \"UoM\": \"meeting\", \"Period\": \"2022Q1\", \"MeasurementID\": \"27\", \"Week\": \"2022-01-31\", \"Function\": \"Target\", \"Measurement\": \"2\", \"Measure key\": \"(2022Q1) NA meetings\"}, {\"MeasureID\": \"cde17237\", \"Measure\": \"NA meetings\", \"Type\": \"Lead\", \"UoM\": \"meeting\", \"Period\": \"2022Q1\", \"MeasurementID\": \"28\", \"Week\": \"2022-02-07\", \"Function\": \"Target\", \"Measurement\": \"2\", \"Measure key\": \"(2022Q1) NA meetings\"}, {\"MeasureID\": \"cde17237\", \"Measure\": \"NA meetings\", \"Type\": \"Lead\", \"UoM\": \"meeting\", \"Period\": \"2022Q1\", \"MeasurementID\": \"29\", \"Week\": \"2022-02-14\", \"Function\": \"Target\", \"Measurement\": \"2\", \"Measure key\": \"(2022Q1) NA meetings\"}, {\"MeasureID\": \"cde17237\", \"Measure\": \"NA meetings\", \"Type\": \"Lead\", \"UoM\": \"meeting\", \"Period\": \"2022Q1\", \"MeasurementID\": \"30\", \"Week\": \"2022-02-21\", \"Function\": \"Target\", \"Measurement\": \"2\", \"Measure key\": \"(2022Q1) NA meetings\"}, {\"MeasureID\": \"cde17237\", \"Measure\": \"NA meetings\", \"Type\": \"Lead\", \"UoM\": \"meeting\", \"Period\": \"2022Q1\", \"MeasurementID\": \"31\", \"Week\": \"2022-02-28\", \"Function\": \"Target\", \"Measurement\": \"2\", \"Measure key\": \"(2022Q1) NA meetings\"}, {\"MeasureID\": \"cde17237\", \"Measure\": \"NA meetings\", \"Type\": \"Lead\", \"UoM\": \"meeting\", \"Period\": \"2022Q1\", \"MeasurementID\": \"32\", \"Week\": \"2022-03-07\", \"Function\": \"Target\", \"Measurement\": \"2\", \"Measure key\": \"(2022Q1) NA meetings\"}, {\"MeasureID\": \"cde17237\", \"Measure\": \"NA meetings\", \"Type\": \"Lead\", \"UoM\": \"meeting\", \"Period\": \"2022Q1\", \"MeasurementID\": \"33\", \"Week\": \"2022-03-14\", \"Function\": \"Target\", \"Measurement\": \"2\", \"Measure key\": \"(2022Q1) NA meetings\"}, {\"MeasureID\": \"cde17237\", \"Measure\": \"NA meetings\", \"Type\": \"Lead\", \"UoM\": \"meeting\", \"Period\": \"2022Q1\", \"MeasurementID\": \"34\", \"Week\": \"2022-03-21\", \"Function\": \"Target\", \"Measurement\": \"2\", \"Measure key\": \"(2022Q1) NA meetings\"}, {\"MeasureID\": \"cde17237\", \"Measure\": \"NA meetings\", \"Type\": \"Lead\", \"UoM\": \"meeting\", \"Period\": \"2022Q1\", \"MeasurementID\": \"35\", \"Week\": \"2022-03-28\", \"Function\": \"Target\", \"Measurement\": \"2\", \"Measure key\": \"(2022Q1) NA meetings\"}], \"data-d5bf44ddd504ff93d4185d584fc2a6a6\": [{\"MeasureID\": \"5f83d0df\", \"Measure\": \"Meditation hours\", \"Type\": \"Lead\", \"UoM\": \"h\", \"Period\": \"2022Q1\", \"MeasurementID\": \"36\", \"Week\": \"2022-01-10\", \"Function\": \"Value\", \"Measurement\": \"\", \"Measure key\": \"(2022Q1) Meditation hours\"}, {\"MeasureID\": \"5f83d0df\", \"Measure\": \"Meditation hours\", \"Type\": \"Lead\", \"UoM\": \"h\", \"Period\": \"2022Q1\", \"MeasurementID\": \"37\", \"Week\": \"2022-01-17\", \"Function\": \"Value\", \"Measurement\": \"\", \"Measure key\": \"(2022Q1) Meditation hours\"}, {\"MeasureID\": \"5f83d0df\", \"Measure\": \"Meditation hours\", \"Type\": \"Lead\", \"UoM\": \"h\", \"Period\": \"2022Q1\", \"MeasurementID\": \"38\", \"Week\": \"2022-01-24\", \"Function\": \"Value\", \"Measurement\": \"\", \"Measure key\": \"(2022Q1) Meditation hours\"}, {\"MeasureID\": \"5f83d0df\", \"Measure\": \"Meditation hours\", \"Type\": \"Lead\", \"UoM\": \"h\", \"Period\": \"2022Q1\", \"MeasurementID\": \"39\", \"Week\": \"2022-01-31\", \"Function\": \"Value\", \"Measurement\": \"\", \"Measure key\": \"(2022Q1) Meditation hours\"}, {\"MeasureID\": \"5f83d0df\", \"Measure\": \"Meditation hours\", \"Type\": \"Lead\", \"UoM\": \"h\", \"Period\": \"2022Q1\", \"MeasurementID\": \"40\", \"Week\": \"2022-02-07\", \"Function\": \"Value\", \"Measurement\": \"\", \"Measure key\": \"(2022Q1) Meditation hours\"}, {\"MeasureID\": \"5f83d0df\", \"Measure\": \"Meditation hours\", \"Type\": \"Lead\", \"UoM\": \"h\", \"Period\": \"2022Q1\", \"MeasurementID\": \"41\", \"Week\": \"2022-02-14\", \"Function\": \"Value\", \"Measurement\": \"\", \"Measure key\": \"(2022Q1) Meditation hours\"}, {\"MeasureID\": \"5f83d0df\", \"Measure\": \"Meditation hours\", \"Type\": \"Lead\", \"UoM\": \"h\", \"Period\": \"2022Q1\", \"MeasurementID\": \"42\", \"Week\": \"2022-02-21\", \"Function\": \"Value\", \"Measurement\": \"\", \"Measure key\": \"(2022Q1) Meditation hours\"}, {\"MeasureID\": \"5f83d0df\", \"Measure\": \"Meditation hours\", \"Type\": \"Lead\", \"UoM\": \"h\", \"Period\": \"2022Q1\", \"MeasurementID\": \"43\", \"Week\": \"2022-02-28\", \"Function\": \"Value\", \"Measurement\": \"\", \"Measure key\": \"(2022Q1) Meditation hours\"}, {\"MeasureID\": \"5f83d0df\", \"Measure\": \"Meditation hours\", \"Type\": \"Lead\", \"UoM\": \"h\", \"Period\": \"2022Q1\", \"MeasurementID\": \"44\", \"Week\": \"2022-03-07\", \"Function\": \"Value\", \"Measurement\": \"\", \"Measure key\": \"(2022Q1) Meditation hours\"}, {\"MeasureID\": \"5f83d0df\", \"Measure\": \"Meditation hours\", \"Type\": \"Lead\", \"UoM\": \"h\", \"Period\": \"2022Q1\", \"MeasurementID\": \"45\", \"Week\": \"2022-03-14\", \"Function\": \"Value\", \"Measurement\": \"\", \"Measure key\": \"(2022Q1) Meditation hours\"}, {\"MeasureID\": \"5f83d0df\", \"Measure\": \"Meditation hours\", \"Type\": \"Lead\", \"UoM\": \"h\", \"Period\": \"2022Q1\", \"MeasurementID\": \"46\", \"Week\": \"2022-03-21\", \"Function\": \"Value\", \"Measurement\": \"\", \"Measure key\": \"(2022Q1) Meditation hours\"}, {\"MeasureID\": \"5f83d0df\", \"Measure\": \"Meditation hours\", \"Type\": \"Lead\", \"UoM\": \"h\", \"Period\": \"2022Q1\", \"MeasurementID\": \"47\", \"Week\": \"2022-03-28\", \"Function\": \"Value\", \"Measurement\": \"\", \"Measure key\": \"(2022Q1) Meditation hours\"}], \"data-af871a59031885ad58475f812ad2ed29\": [{\"MeasureID\": \"5f83d0df\", \"Measure\": \"Meditation hours\", \"Type\": \"Lead\", \"UoM\": \"h\", \"Period\": \"2022Q1\", \"MeasurementID\": \"36\", \"Week\": \"2022-01-10\", \"Function\": \"Target\", \"Measurement\": \"2\", \"Measure key\": \"(2022Q1) Meditation hours\"}, {\"MeasureID\": \"5f83d0df\", \"Measure\": \"Meditation hours\", \"Type\": \"Lead\", \"UoM\": \"h\", \"Period\": \"2022Q1\", \"MeasurementID\": \"37\", \"Week\": \"2022-01-17\", \"Function\": \"Target\", \"Measurement\": \"2\", \"Measure key\": \"(2022Q1) Meditation hours\"}, {\"MeasureID\": \"5f83d0df\", \"Measure\": \"Meditation hours\", \"Type\": \"Lead\", \"UoM\": \"h\", \"Period\": \"2022Q1\", \"MeasurementID\": \"38\", \"Week\": \"2022-01-24\", \"Function\": \"Target\", \"Measurement\": \"2\", \"Measure key\": \"(2022Q1) Meditation hours\"}, {\"MeasureID\": \"5f83d0df\", \"Measure\": \"Meditation hours\", \"Type\": \"Lead\", \"UoM\": \"h\", \"Period\": \"2022Q1\", \"MeasurementID\": \"39\", \"Week\": \"2022-01-31\", \"Function\": \"Target\", \"Measurement\": \"2\", \"Measure key\": \"(2022Q1) Meditation hours\"}, {\"MeasureID\": \"5f83d0df\", \"Measure\": \"Meditation hours\", \"Type\": \"Lead\", \"UoM\": \"h\", \"Period\": \"2022Q1\", \"MeasurementID\": \"40\", \"Week\": \"2022-02-07\", \"Function\": \"Target\", \"Measurement\": \"2\", \"Measure key\": \"(2022Q1) Meditation hours\"}, {\"MeasureID\": \"5f83d0df\", \"Measure\": \"Meditation hours\", \"Type\": \"Lead\", \"UoM\": \"h\", \"Period\": \"2022Q1\", \"MeasurementID\": \"41\", \"Week\": \"2022-02-14\", \"Function\": \"Target\", \"Measurement\": \"2\", \"Measure key\": \"(2022Q1) Meditation hours\"}, {\"MeasureID\": \"5f83d0df\", \"Measure\": \"Meditation hours\", \"Type\": \"Lead\", \"UoM\": \"h\", \"Period\": \"2022Q1\", \"MeasurementID\": \"42\", \"Week\": \"2022-02-21\", \"Function\": \"Target\", \"Measurement\": \"2\", \"Measure key\": \"(2022Q1) Meditation hours\"}, {\"MeasureID\": \"5f83d0df\", \"Measure\": \"Meditation hours\", \"Type\": \"Lead\", \"UoM\": \"h\", \"Period\": \"2022Q1\", \"MeasurementID\": \"43\", \"Week\": \"2022-02-28\", \"Function\": \"Target\", \"Measurement\": \"2\", \"Measure key\": \"(2022Q1) Meditation hours\"}, {\"MeasureID\": \"5f83d0df\", \"Measure\": \"Meditation hours\", \"Type\": \"Lead\", \"UoM\": \"h\", \"Period\": \"2022Q1\", \"MeasurementID\": \"44\", \"Week\": \"2022-03-07\", \"Function\": \"Target\", \"Measurement\": \"2\", \"Measure key\": \"(2022Q1) Meditation hours\"}, {\"MeasureID\": \"5f83d0df\", \"Measure\": \"Meditation hours\", \"Type\": \"Lead\", \"UoM\": \"h\", \"Period\": \"2022Q1\", \"MeasurementID\": \"45\", \"Week\": \"2022-03-14\", \"Function\": \"Target\", \"Measurement\": \"2\", \"Measure key\": \"(2022Q1) Meditation hours\"}, {\"MeasureID\": \"5f83d0df\", \"Measure\": \"Meditation hours\", \"Type\": \"Lead\", \"UoM\": \"h\", \"Period\": \"2022Q1\", \"MeasurementID\": \"46\", \"Week\": \"2022-03-21\", \"Function\": \"Target\", \"Measurement\": \"2\", \"Measure key\": \"(2022Q1) Meditation hours\"}, {\"MeasureID\": \"5f83d0df\", \"Measure\": \"Meditation hours\", \"Type\": \"Lead\", \"UoM\": \"h\", \"Period\": \"2022Q1\", \"MeasurementID\": \"47\", \"Week\": \"2022-03-28\", \"Function\": \"Target\", \"Measurement\": \"2\", \"Measure key\": \"(2022Q1) Meditation hours\"}], \"data-ec4b9e62283782572961338ee3a40f61\": [{\"MeasureID\": \"2b30159c\", \"Measure\": \"Exercise hours\", \"Type\": \"Lead\", \"UoM\": \"h\", \"Period\": \"2022Q1\", \"MeasurementID\": \"48\", \"Week\": \"2022-01-10\", \"Function\": \"Value\", \"Measurement\": \"\", \"Measure key\": \"(2022Q1) Exercise hours\"}, {\"MeasureID\": \"2b30159c\", \"Measure\": \"Exercise hours\", \"Type\": \"Lead\", \"UoM\": \"h\", \"Period\": \"2022Q1\", \"MeasurementID\": \"49\", \"Week\": \"2022-01-17\", \"Function\": \"Value\", \"Measurement\": \"\", \"Measure key\": \"(2022Q1) Exercise hours\"}, {\"MeasureID\": \"2b30159c\", \"Measure\": \"Exercise hours\", \"Type\": \"Lead\", \"UoM\": \"h\", \"Period\": \"2022Q1\", \"MeasurementID\": \"50\", \"Week\": \"2022-01-24\", \"Function\": \"Value\", \"Measurement\": \"\", \"Measure key\": \"(2022Q1) Exercise hours\"}, {\"MeasureID\": \"2b30159c\", \"Measure\": \"Exercise hours\", \"Type\": \"Lead\", \"UoM\": \"h\", \"Period\": \"2022Q1\", \"MeasurementID\": \"51\", \"Week\": \"2022-01-31\", \"Function\": \"Value\", \"Measurement\": \"\", \"Measure key\": \"(2022Q1) Exercise hours\"}, {\"MeasureID\": \"2b30159c\", \"Measure\": \"Exercise hours\", \"Type\": \"Lead\", \"UoM\": \"h\", \"Period\": \"2022Q1\", \"MeasurementID\": \"52\", \"Week\": \"2022-02-07\", \"Function\": \"Value\", \"Measurement\": \"\", \"Measure key\": \"(2022Q1) Exercise hours\"}, {\"MeasureID\": \"2b30159c\", \"Measure\": \"Exercise hours\", \"Type\": \"Lead\", \"UoM\": \"h\", \"Period\": \"2022Q1\", \"MeasurementID\": \"53\", \"Week\": \"2022-02-14\", \"Function\": \"Value\", \"Measurement\": \"\", \"Measure key\": \"(2022Q1) Exercise hours\"}, {\"MeasureID\": \"2b30159c\", \"Measure\": \"Exercise hours\", \"Type\": \"Lead\", \"UoM\": \"h\", \"Period\": \"2022Q1\", \"MeasurementID\": \"54\", \"Week\": \"2022-02-21\", \"Function\": \"Value\", \"Measurement\": \"\", \"Measure key\": \"(2022Q1) Exercise hours\"}, {\"MeasureID\": \"2b30159c\", \"Measure\": \"Exercise hours\", \"Type\": \"Lead\", \"UoM\": \"h\", \"Period\": \"2022Q1\", \"MeasurementID\": \"55\", \"Week\": \"2022-02-28\", \"Function\": \"Value\", \"Measurement\": \"\", \"Measure key\": \"(2022Q1) Exercise hours\"}, {\"MeasureID\": \"2b30159c\", \"Measure\": \"Exercise hours\", \"Type\": \"Lead\", \"UoM\": \"h\", \"Period\": \"2022Q1\", \"MeasurementID\": \"56\", \"Week\": \"2022-03-07\", \"Function\": \"Value\", \"Measurement\": \"\", \"Measure key\": \"(2022Q1) Exercise hours\"}, {\"MeasureID\": \"2b30159c\", \"Measure\": \"Exercise hours\", \"Type\": \"Lead\", \"UoM\": \"h\", \"Period\": \"2022Q1\", \"MeasurementID\": \"57\", \"Week\": \"2022-03-14\", \"Function\": \"Value\", \"Measurement\": \"\", \"Measure key\": \"(2022Q1) Exercise hours\"}, {\"MeasureID\": \"2b30159c\", \"Measure\": \"Exercise hours\", \"Type\": \"Lead\", \"UoM\": \"h\", \"Period\": \"2022Q1\", \"MeasurementID\": \"58\", \"Week\": \"2022-03-21\", \"Function\": \"Value\", \"Measurement\": \"\", \"Measure key\": \"(2022Q1) Exercise hours\"}, {\"MeasureID\": \"2b30159c\", \"Measure\": \"Exercise hours\", \"Type\": \"Lead\", \"UoM\": \"h\", \"Period\": \"2022Q1\", \"MeasurementID\": \"59\", \"Week\": \"2022-03-28\", \"Function\": \"Value\", \"Measurement\": \"\", \"Measure key\": \"(2022Q1) Exercise hours\"}], \"data-94137faf61708818bbe2c0b2cbd433b8\": [{\"MeasureID\": \"2b30159c\", \"Measure\": \"Exercise hours\", \"Type\": \"Lead\", \"UoM\": \"h\", \"Period\": \"2022Q1\", \"MeasurementID\": \"48\", \"Week\": \"2022-01-10\", \"Function\": \"Target\", \"Measurement\": \"1\", \"Measure key\": \"(2022Q1) Exercise hours\"}, {\"MeasureID\": \"2b30159c\", \"Measure\": \"Exercise hours\", \"Type\": \"Lead\", \"UoM\": \"h\", \"Period\": \"2022Q1\", \"MeasurementID\": \"49\", \"Week\": \"2022-01-17\", \"Function\": \"Target\", \"Measurement\": \"2\", \"Measure key\": \"(2022Q1) Exercise hours\"}, {\"MeasureID\": \"2b30159c\", \"Measure\": \"Exercise hours\", \"Type\": \"Lead\", \"UoM\": \"h\", \"Period\": \"2022Q1\", \"MeasurementID\": \"50\", \"Week\": \"2022-01-24\", \"Function\": \"Target\", \"Measurement\": \"3\", \"Measure key\": \"(2022Q1) Exercise hours\"}, {\"MeasureID\": \"2b30159c\", \"Measure\": \"Exercise hours\", \"Type\": \"Lead\", \"UoM\": \"h\", \"Period\": \"2022Q1\", \"MeasurementID\": \"51\", \"Week\": \"2022-01-31\", \"Function\": \"Target\", \"Measurement\": \"3\", \"Measure key\": \"(2022Q1) Exercise hours\"}, {\"MeasureID\": \"2b30159c\", \"Measure\": \"Exercise hours\", \"Type\": \"Lead\", \"UoM\": \"h\", \"Period\": \"2022Q1\", \"MeasurementID\": \"52\", \"Week\": \"2022-02-07\", \"Function\": \"Target\", \"Measurement\": \"3\", \"Measure key\": \"(2022Q1) Exercise hours\"}, {\"MeasureID\": \"2b30159c\", \"Measure\": \"Exercise hours\", \"Type\": \"Lead\", \"UoM\": \"h\", \"Period\": \"2022Q1\", \"MeasurementID\": \"53\", \"Week\": \"2022-02-14\", \"Function\": \"Target\", \"Measurement\": \"3\", \"Measure key\": \"(2022Q1) Exercise hours\"}, {\"MeasureID\": \"2b30159c\", \"Measure\": \"Exercise hours\", \"Type\": \"Lead\", \"UoM\": \"h\", \"Period\": \"2022Q1\", \"MeasurementID\": \"54\", \"Week\": \"2022-02-21\", \"Function\": \"Target\", \"Measurement\": \"3\", \"Measure key\": \"(2022Q1) Exercise hours\"}, {\"MeasureID\": \"2b30159c\", \"Measure\": \"Exercise hours\", \"Type\": \"Lead\", \"UoM\": \"h\", \"Period\": \"2022Q1\", \"MeasurementID\": \"55\", \"Week\": \"2022-02-28\", \"Function\": \"Target\", \"Measurement\": \"3\", \"Measure key\": \"(2022Q1) Exercise hours\"}, {\"MeasureID\": \"2b30159c\", \"Measure\": \"Exercise hours\", \"Type\": \"Lead\", \"UoM\": \"h\", \"Period\": \"2022Q1\", \"MeasurementID\": \"56\", \"Week\": \"2022-03-07\", \"Function\": \"Target\", \"Measurement\": \"3\", \"Measure key\": \"(2022Q1) Exercise hours\"}, {\"MeasureID\": \"2b30159c\", \"Measure\": \"Exercise hours\", \"Type\": \"Lead\", \"UoM\": \"h\", \"Period\": \"2022Q1\", \"MeasurementID\": \"57\", \"Week\": \"2022-03-14\", \"Function\": \"Target\", \"Measurement\": \"3\", \"Measure key\": \"(2022Q1) Exercise hours\"}, {\"MeasureID\": \"2b30159c\", \"Measure\": \"Exercise hours\", \"Type\": \"Lead\", \"UoM\": \"h\", \"Period\": \"2022Q1\", \"MeasurementID\": \"58\", \"Week\": \"2022-03-21\", \"Function\": \"Target\", \"Measurement\": \"3\", \"Measure key\": \"(2022Q1) Exercise hours\"}, {\"MeasureID\": \"2b30159c\", \"Measure\": \"Exercise hours\", \"Type\": \"Lead\", \"UoM\": \"h\", \"Period\": \"2022Q1\", \"MeasurementID\": \"59\", \"Week\": \"2022-03-28\", \"Function\": \"Target\", \"Measurement\": \"3\", \"Measure key\": \"(2022Q1) Exercise hours\"}]}}, {\"mode\": \"vega-lite\"});\n",
              "</script>"
            ]
          },
          "metadata": {},
          "execution_count": 219
        }
      ]
    },
    {
      "cell_type": "code",
      "source": [
        ""
      ],
      "metadata": {
        "id": "-3pzM8pzorLv"
      },
      "execution_count": null,
      "outputs": []
    }
  ]
}